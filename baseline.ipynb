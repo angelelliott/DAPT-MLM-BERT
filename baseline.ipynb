{
  "cells": [
    {
      "cell_type": "markdown",
      "metadata": {
        "id": "view-in-github",
        "colab_type": "text"
      },
      "source": [
        "<a href=\"https://colab.research.google.com/github/angelelliott/miso-bert/blob/main/baseline.ipynb\" target=\"_parent\"><img src=\"https://colab.research.google.com/assets/colab-badge.svg\" alt=\"Open In Colab\"/></a>"
      ]
    },
    {
      "cell_type": "code",
      "execution_count": null,
      "metadata": {
        "id": "bgcQ7nLrtWdo",
        "colab": {
          "base_uri": "https://localhost:8080/"
        },
        "outputId": "739c9d93-0967-4e06-d18e-6af58736b2fd"
      },
      "outputs": [
        {
          "output_type": "stream",
          "name": "stdout",
          "text": [
            "Looking in indexes: https://pypi.org/simple, https://us-python.pkg.dev/colab-wheels/public/simple/\n",
            "Requirement already satisfied: transformers in /usr/local/lib/python3.7/dist-packages (4.24.0)\n",
            "Requirement already satisfied: importlib-metadata in /usr/local/lib/python3.7/dist-packages (from transformers) (4.13.0)\n",
            "Requirement already satisfied: requests in /usr/local/lib/python3.7/dist-packages (from transformers) (2.23.0)\n",
            "Requirement already satisfied: huggingface-hub<1.0,>=0.10.0 in /usr/local/lib/python3.7/dist-packages (from transformers) (0.11.0)\n",
            "Requirement already satisfied: pyyaml>=5.1 in /usr/local/lib/python3.7/dist-packages (from transformers) (6.0)\n",
            "Requirement already satisfied: packaging>=20.0 in /usr/local/lib/python3.7/dist-packages (from transformers) (21.3)\n",
            "Requirement already satisfied: tokenizers!=0.11.3,<0.14,>=0.11.1 in /usr/local/lib/python3.7/dist-packages (from transformers) (0.13.2)\n",
            "Requirement already satisfied: numpy>=1.17 in /usr/local/lib/python3.7/dist-packages (from transformers) (1.21.6)\n",
            "Requirement already satisfied: filelock in /usr/local/lib/python3.7/dist-packages (from transformers) (3.8.0)\n",
            "Requirement already satisfied: tqdm>=4.27 in /usr/local/lib/python3.7/dist-packages (from transformers) (4.64.1)\n",
            "Requirement already satisfied: regex!=2019.12.17 in /usr/local/lib/python3.7/dist-packages (from transformers) (2022.6.2)\n",
            "Requirement already satisfied: typing-extensions>=3.7.4.3 in /usr/local/lib/python3.7/dist-packages (from huggingface-hub<1.0,>=0.10.0->transformers) (4.1.1)\n",
            "Requirement already satisfied: pyparsing!=3.0.5,>=2.0.2 in /usr/local/lib/python3.7/dist-packages (from packaging>=20.0->transformers) (3.0.9)\n",
            "Requirement already satisfied: zipp>=0.5 in /usr/local/lib/python3.7/dist-packages (from importlib-metadata->transformers) (3.10.0)\n",
            "Requirement already satisfied: chardet<4,>=3.0.2 in /usr/local/lib/python3.7/dist-packages (from requests->transformers) (3.0.4)\n",
            "Requirement already satisfied: idna<3,>=2.5 in /usr/local/lib/python3.7/dist-packages (from requests->transformers) (2.10)\n",
            "Requirement already satisfied: certifi>=2017.4.17 in /usr/local/lib/python3.7/dist-packages (from requests->transformers) (2022.9.24)\n",
            "Requirement already satisfied: urllib3!=1.25.0,!=1.25.1,<1.26,>=1.21.1 in /usr/local/lib/python3.7/dist-packages (from requests->transformers) (1.24.3)\n"
          ]
        }
      ],
      "source": [
        "!pip install transformers"
      ]
    },
    {
      "cell_type": "code",
      "execution_count": null,
      "metadata": {
        "id": "4wR8-BHztfNJ"
      },
      "outputs": [],
      "source": [
        "# Import necessary libraries\n",
        "import pandas as pd\n",
        "import numpy as np\n",
        "import matplotlib.pyplot as plt\n",
        "import torch\n",
        "import torch.nn as nn\n",
        "from sklearn.model_selection import train_test_split\n",
        "from sklearn.metrics import classification_report\n",
        "import transformers\n",
        "from transformers import BertTokenizer, BertForSequenceClassification"
      ]
    },
    {
      "cell_type": "code",
      "source": [
        "transformers.__version__"
      ],
      "metadata": {
        "colab": {
          "base_uri": "https://localhost:8080/",
          "height": 35
        },
        "id": "i_27MWuXcR48",
        "outputId": "59b3eaa9-0ae1-4c44-87a7-9eed029e7c9d"
      },
      "execution_count": null,
      "outputs": [
        {
          "output_type": "execute_result",
          "data": {
            "text/plain": [
              "'4.24.0'"
            ],
            "application/vnd.google.colaboratory.intrinsic+json": {
              "type": "string"
            }
          },
          "metadata": {},
          "execution_count": 3
        }
      ]
    },
    {
      "cell_type": "code",
      "execution_count": null,
      "metadata": {
        "id": "HgemMI2-t1I9"
      },
      "outputs": [],
      "source": [
        "#lowercase, change urls for url\n",
        "\n",
        "train = pd.read_excel(\"/content/drive/MyDrive/Tests/es_AMI_TrainingSet.xlsx\")\n",
        "test = pd.read_csv(\"/content/drive/MyDrive/Tests/es_AMI_TestSet_labelled_FIXED2\")\n",
        "import re\n",
        "url = re.compile(r'http\\S+')\n",
        "#mention = re.compile(r'@\\S+')\n",
        "train['tweet'] =  train['tweet'].str.lower()\n",
        "train['tweet'] = [url.sub('url', x) for x in train['tweet']]\n",
        "#train['tweet']= [mention.sub('usuario', x) for x in train['tweet']]\n",
        "test['tweet'] =  test['tweet'].str.lower()\n",
        "test['tweet'] = [url.sub('url', x) for x in test['tweet']]\n",
        "#test['tweet']= [mention.sub('usuario', x) for x in test['tweet']]"
      ]
    },
    {
      "cell_type": "code",
      "source": [
        "!pip install emoji --upgrade"
      ],
      "metadata": {
        "colab": {
          "base_uri": "https://localhost:8080/"
        },
        "id": "xQEr47r83gQd",
        "outputId": "9046bec4-0a7f-44c4-d40e-f637d418826f"
      },
      "execution_count": null,
      "outputs": [
        {
          "output_type": "stream",
          "name": "stdout",
          "text": [
            "Looking in indexes: https://pypi.org/simple, https://us-python.pkg.dev/colab-wheels/public/simple/\n",
            "Requirement already satisfied: emoji in /usr/local/lib/python3.7/dist-packages (2.2.0)\n"
          ]
        }
      ]
    },
    {
      "cell_type": "code",
      "source": [
        "import emoji"
      ],
      "metadata": {
        "id": "VUjIYJnl3tAV"
      },
      "execution_count": null,
      "outputs": []
    },
    {
      "cell_type": "code",
      "source": [
        "train['tweet'] = [emoji.demojize(x, language='es') for x in train['tweet']]\n",
        "test['tweet'] = [emoji.demojize(x, language='es') for x in test['tweet']]"
      ],
      "metadata": {
        "id": "pkVSgwKr3t_W"
      },
      "execution_count": null,
      "outputs": []
    },
    {
      "cell_type": "code",
      "source": [
        "test_texts = test[[\"tweet\"]]\n",
        "test_labels = test[\"misogynous\"].ravel()\n",
        "\n",
        "train_X = train[['tweet']]\n",
        "train_y = train['misogynous'].ravel()"
      ],
      "metadata": {
        "id": "yFx0hlsZ3Z2q"
      },
      "execution_count": null,
      "outputs": []
    },
    {
      "cell_type": "code",
      "execution_count": null,
      "metadata": {
        "id": "BUEAdeI1tg1f"
      },
      "outputs": [],
      "source": [
        "# split training set into train and validation\n",
        "from sklearn.model_selection import train_test_split\n",
        "train_texts, val_texts, train_labels, val_labels = train_test_split(train_X, train_y, test_size=.2)"
      ]
    },
    {
      "cell_type": "code",
      "execution_count": null,
      "metadata": {
        "colab": {
          "base_uri": "https://localhost:8080/"
        },
        "id": "-9x82W2wtxAb",
        "outputId": "4faa5f82-65e0-4f35-d97d-764a1a32772f"
      },
      "outputs": [
        {
          "output_type": "stream",
          "name": "stderr",
          "text": [
            "Some weights of the model checkpoint at /content/drive/MyDrive/myModels/pretrained_model_covid_3epoch_good were not used when initializing BertForSequenceClassification: ['cls.predictions.bias', 'cls.predictions.decoder.weight', 'cls.predictions.transform.dense.bias', 'cls.predictions.transform.LayerNorm.weight', 'cls.predictions.transform.LayerNorm.bias', 'cls.predictions.transform.dense.weight']\n",
            "- This IS expected if you are initializing BertForSequenceClassification from the checkpoint of a model trained on another task or with another architecture (e.g. initializing a BertForSequenceClassification model from a BertForPreTraining model).\n",
            "- This IS NOT expected if you are initializing BertForSequenceClassification from the checkpoint of a model that you expect to be exactly identical (initializing a BertForSequenceClassification model from a BertForSequenceClassification model).\n",
            "Some weights of BertForSequenceClassification were not initialized from the model checkpoint at /content/drive/MyDrive/myModels/pretrained_model_covid_3epoch_good and are newly initialized: ['classifier.bias', 'classifier.weight']\n",
            "You should probably TRAIN this model on a down-stream task to be able to use it for predictions and inference.\n"
          ]
        }
      ],
      "source": [
        "# tokenize text\n",
        "\n",
        "# Import pre-trained model and tokenizer\n",
        "model = BertForSequenceClassification.from_pretrained(\"dccuchile/bert-base-spanish-wwm-uncased\")\n",
        "tokenizer = BertTokenizer.from_pretrained(\"dccuchile/bert-base-spanish-wwm-uncased\")"
      ]
    },
    {
      "cell_type": "code",
      "source": [
        "train['Avg_length'] = train[\"tweet\"].apply(lambda x: len(x.split())/len(x.split('.')))\n",
        "train['Avg_length'].describe()"
      ],
      "metadata": {
        "colab": {
          "base_uri": "https://localhost:8080/"
        },
        "id": "3F2kUrUhNJ6t",
        "outputId": "38d9f530-3f30-4f4a-b9d9-1e5f1db760e2"
      },
      "execution_count": null,
      "outputs": [
        {
          "output_type": "execute_result",
          "data": {
            "text/plain": [
              "count    3307.000000\n",
              "mean       13.549541\n",
              "std         9.210529\n",
              "min         0.750000\n",
              "25%         7.000000\n",
              "50%        11.000000\n",
              "75%        18.000000\n",
              "max        59.000000\n",
              "Name: Avg_length, dtype: float64"
            ]
          },
          "metadata": {},
          "execution_count": 11
        }
      ]
    },
    {
      "cell_type": "code",
      "execution_count": null,
      "metadata": {
        "id": "GMr8V7MkugJE",
        "colab": {
          "base_uri": "https://localhost:8080/"
        },
        "outputId": "34b63436-1e96-47a8-d8b6-2824a055904e"
      },
      "outputs": [
        {
          "output_type": "stream",
          "name": "stderr",
          "text": [
            "/usr/local/lib/python3.7/dist-packages/transformers/tokenization_utils_base.py:2323: UserWarning: `max_length` is ignored when `padding`=`True` and there is no truncation strategy. To pad to max length, use `padding='max_length'`.\n",
            "  \"`max_length` is ignored when `padding`=`True` and there is no truncation strategy. \"\n"
          ]
        }
      ],
      "source": [
        "train_encodings = tokenizer(train_texts['tweet'].tolist(), return_tensors='pt', max_length=80, padding=True)\n",
        "val_encodings = tokenizer(val_texts['tweet'].tolist(), return_tensors='pt', max_length=80, padding=True)\n",
        "test_encodings = tokenizer(test_texts['tweet'].tolist(), return_tensors='pt', max_length=80, padding=True)"
      ]
    },
    {
      "cell_type": "code",
      "execution_count": null,
      "metadata": {
        "id": "sTenJ9StvaHQ"
      },
      "outputs": [],
      "source": [
        "class MisogynyDataset(torch.utils.data.Dataset):\n",
        "  def __init__(self, encodings, labels):\n",
        "    self.encodings = encodings\n",
        "    self.labels = labels\n",
        "\n",
        "  def __getitem__(self, idx):\n",
        "    item = {key: torch.tensor(val[idx]) for key, val in self.encodings.items()}\n",
        "    item['labels'] = torch.tensor(self.labels[idx])\n",
        "    return item\n",
        "\n",
        "  def __len__(self):\n",
        "    return len(self.labels)"
      ]
    },
    {
      "cell_type": "code",
      "execution_count": null,
      "metadata": {
        "id": "kmpwDX77vU46"
      },
      "outputs": [],
      "source": [
        "train_dataset = MisogynyDataset(train_encodings, train_labels)\n",
        "val_dataset = MisogynyDataset(val_encodings, val_labels)\n",
        "test_dataset = MisogynyDataset(test_encodings, test_labels)"
      ]
    },
    {
      "cell_type": "code",
      "execution_count": null,
      "metadata": {
        "id": "VbIVHxsRvbhk"
      },
      "outputs": [],
      "source": [
        "from transformers import Trainer, TrainingArguments\n",
        "\n",
        "\n",
        "training_args = TrainingArguments(\n",
        "    output_dir='./results',          # output directory\n",
        "    num_train_epochs=2,              # total # of training epochs\n",
        "    per_device_train_batch_size=8, # batch size per device during training\n",
        "    per_device_eval_batch_size=16,   # batch size for evaluation\n",
        "    warmup_steps=100,                # number of warmup steps for learning rate scheduler\n",
        "    weight_decay=0.00001,               # strength of weight decay\n",
        "    learning_rate = 5e-5,\n",
        "    logging_dir='./logs',            # directory for storing logs\n",
        "    optim = 'adamw_torch'\n",
        ")\n",
        "\n",
        "trainer = Trainer(\n",
        "    model=model,                         # the instantiated Transformers model to be trained\n",
        "    args=training_args,                  # training arguments, defined above\n",
        "    train_dataset=train_dataset,         # training dataset\n",
        "    eval_dataset=val_dataset             # evaluation dataset\n",
        ")"
      ]
    },
    {
      "cell_type": "code",
      "source": [
        "from google.colab import drive\n",
        "drive.mount('/content/drive')"
      ],
      "metadata": {
        "colab": {
          "base_uri": "https://localhost:8080/"
        },
        "id": "PZZTA6Ss9X-C",
        "outputId": "1007a95c-4ded-40a2-d0c4-c0f483f43c49"
      },
      "execution_count": null,
      "outputs": [
        {
          "output_type": "stream",
          "name": "stdout",
          "text": [
            "Drive already mounted at /content/drive; to attempt to forcibly remount, call drive.mount(\"/content/drive\", force_remount=True).\n"
          ]
        }
      ]
    },
    {
      "cell_type": "code",
      "execution_count": null,
      "metadata": {
        "id": "e2iU6VELveuB",
        "colab": {
          "base_uri": "https://localhost:8080/",
          "height": 520
        },
        "outputId": "dcddd1f1-66b3-47bc-cdc8-c0659d60fb26"
      },
      "outputs": [
        {
          "output_type": "stream",
          "name": "stderr",
          "text": [
            "***** Running training *****\n",
            "  Num examples = 2645\n",
            "  Num Epochs = 2\n",
            "  Instantaneous batch size per device = 8\n",
            "  Total train batch size (w. parallel, distributed & accumulation) = 8\n",
            "  Gradient Accumulation steps = 1\n",
            "  Total optimization steps = 662\n",
            "  Number of trainable parameters = 109852418\n",
            "/usr/local/lib/python3.7/dist-packages/ipykernel_launcher.py:7: UserWarning: To copy construct from a tensor, it is recommended to use sourceTensor.clone().detach() or sourceTensor.clone().detach().requires_grad_(True), rather than torch.tensor(sourceTensor).\n",
            "  import sys\n"
          ]
        },
        {
          "output_type": "display_data",
          "data": {
            "text/plain": [
              "<IPython.core.display.HTML object>"
            ],
            "text/html": [
              "\n",
              "    <div>\n",
              "      \n",
              "      <progress value='662' max='662' style='width:300px; height:20px; vertical-align: middle;'></progress>\n",
              "      [662/662 03:09, Epoch 2/2]\n",
              "    </div>\n",
              "    <table border=\"1\" class=\"dataframe\">\n",
              "  <thead>\n",
              " <tr style=\"text-align: left;\">\n",
              "      <th>Step</th>\n",
              "      <th>Training Loss</th>\n",
              "    </tr>\n",
              "  </thead>\n",
              "  <tbody>\n",
              "    <tr>\n",
              "      <td>500</td>\n",
              "      <td>0.495800</td>\n",
              "    </tr>\n",
              "  </tbody>\n",
              "</table><p>"
            ]
          },
          "metadata": {}
        },
        {
          "output_type": "stream",
          "name": "stderr",
          "text": [
            "Saving model checkpoint to ./results/checkpoint-500\n",
            "Configuration saved in ./results/checkpoint-500/config.json\n",
            "Model weights saved in ./results/checkpoint-500/pytorch_model.bin\n",
            "/usr/local/lib/python3.7/dist-packages/ipykernel_launcher.py:7: UserWarning: To copy construct from a tensor, it is recommended to use sourceTensor.clone().detach() or sourceTensor.clone().detach().requires_grad_(True), rather than torch.tensor(sourceTensor).\n",
            "  import sys\n",
            "\n",
            "\n",
            "Training completed. Do not forget to share your model on huggingface.co/models =)\n",
            "\n",
            "\n"
          ]
        },
        {
          "output_type": "execute_result",
          "data": {
            "text/plain": [
              "TrainOutput(global_step=662, training_loss=0.458455929943442, metrics={'train_runtime': 190.1381, 'train_samples_per_second': 27.822, 'train_steps_per_second': 3.482, 'total_flos': 445829349976800.0, 'train_loss': 0.458455929943442, 'epoch': 2.0})"
            ]
          },
          "metadata": {},
          "execution_count": 17
        }
      ],
      "source": [
        "trainer.train()"
      ]
    },
    {
      "cell_type": "code",
      "execution_count": null,
      "metadata": {
        "id": "aq5TNk81vguJ",
        "colab": {
          "base_uri": "https://localhost:8080/",
          "height": 236
        },
        "outputId": "26b2cf51-3a56-4e37-a57c-7a66c1d5d99e"
      },
      "outputs": [
        {
          "output_type": "stream",
          "name": "stderr",
          "text": [
            "***** Running Evaluation *****\n",
            "  Num examples = 662\n",
            "  Batch size = 16\n",
            "/usr/local/lib/python3.7/dist-packages/ipykernel_launcher.py:7: UserWarning: To copy construct from a tensor, it is recommended to use sourceTensor.clone().detach() or sourceTensor.clone().detach().requires_grad_(True), rather than torch.tensor(sourceTensor).\n",
            "  import sys\n"
          ]
        },
        {
          "output_type": "display_data",
          "data": {
            "text/plain": [
              "<IPython.core.display.HTML object>"
            ],
            "text/html": [
              "\n",
              "    <div>\n",
              "      \n",
              "      <progress value='42' max='42' style='width:300px; height:20px; vertical-align: middle;'></progress>\n",
              "      [42/42 00:07]\n",
              "    </div>\n",
              "    "
            ]
          },
          "metadata": {}
        },
        {
          "output_type": "execute_result",
          "data": {
            "text/plain": [
              "{'eval_loss': 0.4641978144645691,\n",
              " 'eval_runtime': 8.0134,\n",
              " 'eval_samples_per_second': 82.611,\n",
              " 'eval_steps_per_second': 5.241,\n",
              " 'epoch': 2.0}"
            ]
          },
          "metadata": {},
          "execution_count": 18
        }
      ],
      "source": [
        "trainer.evaluate()"
      ]
    },
    {
      "cell_type": "code",
      "execution_count": null,
      "metadata": {
        "id": "dqBlAF71v58i"
      },
      "outputs": [],
      "source": [
        "from sklearn.metrics import accuracy_score, precision_recall_fscore_support\n",
        "\n",
        "def compute_metrics(pred):\n",
        "    labels = pred.label_ids\n",
        "    preds = pred.predictions.argmax(-1)\n",
        "    precision, recall, f1, _ = precision_recall_fscore_support(labels, preds, average='binary')\n",
        "    acc = accuracy_score(labels, preds)\n",
        "    return {\n",
        "        'accuracy': acc,\n",
        "        'f1': f1,\n",
        "        'precision': precision,\n",
        "        'recall': recall\n",
        "    }"
      ]
    },
    {
      "cell_type": "code",
      "execution_count": null,
      "metadata": {
        "id": "8WK9wmzzv7aH",
        "colab": {
          "base_uri": "https://localhost:8080/",
          "height": 126
        },
        "outputId": "a58d8c7d-db40-4230-899f-7b78af1eb78b"
      },
      "outputs": [
        {
          "output_type": "stream",
          "name": "stderr",
          "text": [
            "***** Running Prediction *****\n",
            "  Num examples = 831\n",
            "  Batch size = 16\n",
            "/usr/local/lib/python3.7/dist-packages/ipykernel_launcher.py:7: UserWarning: To copy construct from a tensor, it is recommended to use sourceTensor.clone().detach() or sourceTensor.clone().detach().requires_grad_(True), rather than torch.tensor(sourceTensor).\n",
            "  import sys\n"
          ]
        },
        {
          "output_type": "display_data",
          "data": {
            "text/plain": [
              "<IPython.core.display.HTML object>"
            ],
            "text/html": []
          },
          "metadata": {}
        }
      ],
      "source": [
        "predictions = trainer.predict(test_dataset)"
      ]
    },
    {
      "cell_type": "code",
      "execution_count": null,
      "metadata": {
        "id": "bjC08m5zv8_Y",
        "colab": {
          "base_uri": "https://localhost:8080/"
        },
        "outputId": "01282685-aa64-4c58-aa9e-377d039e20f5"
      },
      "outputs": [
        {
          "output_type": "execute_result",
          "data": {
            "text/plain": [
              "{'accuracy': 0.7990373044524669,\n",
              " 'f1': 0.7861715749039693,\n",
              " 'precision': 0.7309523809523809,\n",
              " 'recall': 0.850415512465374}"
            ]
          },
          "metadata": {},
          "execution_count": 21
        }
      ],
      "source": [
        "compute_metrics(predictions)"
      ]
    },
    {
      "cell_type": "code",
      "source": [
        "predictions.predictions.argmax(-1)"
      ],
      "metadata": {
        "id": "jZBW_W9hIPUK",
        "colab": {
          "base_uri": "https://localhost:8080/"
        },
        "outputId": "b99c90df-ddf1-4f6c-d50a-d28a44898595"
      },
      "execution_count": null,
      "outputs": [
        {
          "output_type": "execute_result",
          "data": {
            "text/plain": [
              "array([1, 1, 0, 1, 1, 0, 1, 1, 1, 1, 0, 1, 0, 1, 1, 1, 1, 1, 0, 1, 1, 0,\n",
              "       1, 0, 1, 1, 1, 0, 1, 1, 0, 1, 1, 0, 1, 0, 0, 0, 0, 1, 1, 0, 1, 1,\n",
              "       0, 1, 1, 0, 1, 1, 0, 0, 0, 1, 0, 1, 0, 0, 1, 0, 0, 1, 1, 0, 0, 0,\n",
              "       0, 1, 1, 0, 1, 1, 1, 0, 0, 1, 0, 0, 1, 1, 0, 0, 0, 1, 0, 0, 0, 0,\n",
              "       0, 1, 1, 0, 1, 0, 1, 1, 1, 0, 0, 1, 0, 0, 1, 0, 0, 0, 1, 0, 1, 1,\n",
              "       0, 0, 0, 1, 0, 1, 0, 0, 0, 0, 1, 1, 1, 1, 0, 1, 1, 0, 1, 1, 1, 1,\n",
              "       0, 0, 0, 1, 1, 0, 0, 0, 0, 0, 1, 1, 0, 0, 1, 1, 1, 1, 0, 0, 1, 0,\n",
              "       1, 0, 0, 0, 1, 0, 1, 1, 0, 1, 0, 1, 1, 0, 1, 1, 0, 1, 0, 0, 1, 1,\n",
              "       0, 1, 0, 1, 1, 0, 1, 0, 0, 1, 1, 1, 0, 1, 1, 0, 1, 0, 0, 1, 0, 0,\n",
              "       1, 1, 1, 1, 0, 0, 0, 0, 1, 0, 0, 0, 0, 1, 1, 0, 0, 0, 1, 0, 0, 1,\n",
              "       0, 0, 0, 0, 0, 1, 0, 1, 0, 0, 1, 0, 1, 1, 0, 0, 0, 1, 1, 1, 0, 0,\n",
              "       1, 1, 0, 1, 0, 1, 0, 1, 1, 1, 1, 0, 0, 1, 0, 0, 1, 0, 1, 1, 0, 0,\n",
              "       1, 0, 1, 1, 0, 0, 0, 1, 0, 0, 1, 0, 1, 1, 0, 0, 1, 0, 0, 1, 1, 0,\n",
              "       0, 0, 1, 1, 0, 0, 1, 1, 0, 1, 0, 0, 0, 0, 1, 1, 0, 0, 0, 1, 1, 1,\n",
              "       1, 1, 0, 0, 0, 1, 0, 0, 0, 1, 1, 1, 1, 1, 0, 0, 1, 1, 1, 1, 0, 1,\n",
              "       0, 1, 0, 0, 0, 0, 0, 0, 1, 0, 1, 1, 1, 1, 1, 0, 0, 1, 0, 1, 1, 1,\n",
              "       0, 1, 1, 0, 1, 1, 1, 1, 0, 1, 1, 1, 1, 1, 1, 0, 0, 0, 0, 0, 0, 1,\n",
              "       0, 1, 0, 1, 1, 0, 0, 1, 1, 1, 0, 1, 1, 1, 0, 1, 1, 1, 0, 0, 1, 1,\n",
              "       0, 1, 0, 0, 0, 0, 0, 0, 0, 0, 0, 0, 1, 0, 1, 0, 0, 1, 1, 1, 1, 1,\n",
              "       1, 0, 1, 1, 0, 1, 1, 0, 0, 1, 1, 1, 0, 1, 1, 1, 1, 0, 1, 0, 1, 0,\n",
              "       0, 0, 0, 1, 1, 1, 0, 0, 0, 1, 1, 1, 1, 1, 1, 0, 0, 1, 0, 0, 1, 1,\n",
              "       1, 1, 1, 0, 1, 0, 1, 0, 0, 1, 1, 0, 1, 0, 0, 1, 1, 1, 1, 0, 0, 0,\n",
              "       0, 1, 0, 0, 1, 0, 0, 1, 0, 1, 0, 1, 1, 1, 1, 0, 0, 1, 0, 1, 0, 0,\n",
              "       0, 1, 1, 0, 1, 0, 0, 0, 1, 0, 0, 0, 0, 1, 0, 1, 1, 1, 0, 0, 0, 0,\n",
              "       0, 0, 1, 1, 0, 1, 0, 0, 0, 1, 1, 1, 0, 0, 0, 1, 0, 1, 1, 1, 1, 0,\n",
              "       0, 0, 0, 1, 1, 0, 0, 1, 0, 0, 0, 0, 1, 1, 0, 1, 1, 1, 0, 0, 0, 0,\n",
              "       1, 1, 1, 1, 1, 1, 1, 1, 0, 1, 1, 0, 0, 0, 0, 0, 0, 1, 1, 1, 1, 0,\n",
              "       0, 1, 0, 1, 1, 1, 1, 1, 0, 1, 0, 1, 1, 1, 1, 1, 0, 1, 1, 1, 1, 0,\n",
              "       0, 0, 1, 0, 0, 0, 1, 0, 1, 1, 1, 0, 1, 0, 0, 1, 1, 0, 1, 0, 1, 1,\n",
              "       1, 1, 1, 0, 0, 0, 1, 1, 1, 0, 0, 0, 0, 1, 1, 1, 0, 1, 0, 0, 1, 0,\n",
              "       1, 0, 0, 1, 1, 1, 1, 0, 1, 0, 1, 0, 0, 0, 0, 0, 1, 0, 1, 1, 1, 1,\n",
              "       0, 1, 0, 0, 1, 1, 0, 0, 0, 1, 0, 0, 0, 1, 0, 1, 0, 1, 0, 0, 0, 1,\n",
              "       1, 1, 0, 1, 1, 1, 0, 1, 0, 1, 1, 0, 1, 0, 1, 0, 1, 1, 0, 1, 1, 0,\n",
              "       0, 0, 1, 0, 1, 0, 0, 1, 1, 0, 1, 1, 1, 0, 0, 0, 1, 0, 0, 1, 0, 0,\n",
              "       0, 0, 1, 1, 0, 0, 0, 0, 0, 0, 0, 0, 0, 0, 1, 1, 0, 0, 0, 1, 0, 0,\n",
              "       1, 1, 0, 1, 1, 1, 0, 1, 1, 0, 0, 1, 1, 1, 0, 1, 1, 0, 0, 1, 1, 0,\n",
              "       0, 1, 0, 0, 0, 1, 1, 1, 1, 1, 0, 1, 0, 1, 0, 0, 1, 1, 1, 1, 0, 1,\n",
              "       0, 0, 0, 1, 0, 0, 1, 0, 0, 0, 1, 1, 0, 1, 1, 1, 1])"
            ]
          },
          "metadata": {},
          "execution_count": 22
        }
      ]
    },
    {
      "cell_type": "code",
      "source": [
        "predictions.label_ids"
      ],
      "metadata": {
        "id": "pUiRuegQkvIa",
        "colab": {
          "base_uri": "https://localhost:8080/"
        },
        "outputId": "f30dbe05-1879-4817-fb89-66b1475fe3f9"
      },
      "execution_count": null,
      "outputs": [
        {
          "output_type": "execute_result",
          "data": {
            "text/plain": [
              "array([0, 1, 0, 1, 1, 0, 1, 1, 1, 0, 0, 1, 0, 1, 0, 1, 1, 0, 1, 0, 1, 0,\n",
              "       1, 0, 0, 0, 0, 0, 1, 1, 1, 1, 1, 0, 1, 0, 1, 0, 0, 1, 1, 0, 1, 1,\n",
              "       0, 0, 0, 0, 0, 1, 0, 0, 0, 1, 0, 1, 0, 0, 0, 0, 1, 1, 1, 0, 0, 1,\n",
              "       0, 0, 0, 1, 1, 1, 1, 0, 1, 1, 0, 0, 0, 1, 0, 0, 0, 0, 0, 0, 0, 0,\n",
              "       0, 0, 1, 0, 1, 0, 1, 1, 0, 1, 0, 1, 0, 0, 1, 0, 0, 0, 1, 1, 1, 1,\n",
              "       1, 0, 0, 0, 0, 1, 0, 0, 0, 0, 1, 0, 1, 0, 0, 0, 0, 0, 1, 0, 1, 0,\n",
              "       0, 0, 0, 1, 1, 1, 0, 0, 0, 0, 0, 1, 0, 0, 1, 1, 1, 1, 0, 0, 1, 0,\n",
              "       1, 0, 0, 1, 1, 1, 1, 1, 0, 0, 0, 1, 1, 0, 1, 1, 0, 1, 0, 0, 1, 1,\n",
              "       0, 1, 1, 0, 1, 1, 1, 1, 0, 1, 0, 1, 0, 1, 0, 0, 1, 0, 0, 1, 0, 0,\n",
              "       1, 1, 1, 0, 0, 0, 0, 0, 1, 0, 0, 0, 1, 0, 1, 0, 0, 1, 1, 0, 0, 1,\n",
              "       1, 0, 0, 0, 0, 0, 0, 1, 0, 0, 1, 0, 0, 0, 0, 0, 0, 1, 1, 1, 0, 0,\n",
              "       1, 0, 0, 0, 0, 1, 0, 0, 1, 1, 1, 0, 1, 0, 0, 0, 1, 0, 1, 1, 1, 0,\n",
              "       0, 1, 1, 1, 0, 0, 0, 1, 0, 0, 1, 0, 1, 1, 0, 0, 1, 0, 1, 0, 1, 0,\n",
              "       0, 0, 1, 1, 0, 0, 0, 0, 0, 1, 0, 0, 0, 0, 1, 1, 0, 0, 0, 0, 1, 1,\n",
              "       1, 1, 0, 0, 0, 1, 0, 0, 0, 1, 1, 1, 1, 1, 1, 0, 1, 1, 1, 1, 0, 1,\n",
              "       0, 1, 0, 0, 0, 0, 0, 0, 0, 0, 0, 1, 1, 0, 1, 0, 0, 0, 0, 1, 1, 0,\n",
              "       0, 1, 0, 0, 1, 1, 0, 0, 0, 0, 1, 1, 1, 1, 1, 0, 0, 0, 0, 0, 0, 0,\n",
              "       0, 1, 0, 1, 1, 0, 0, 1, 1, 1, 0, 1, 1, 1, 0, 1, 1, 0, 0, 0, 1, 1,\n",
              "       0, 1, 0, 0, 0, 1, 0, 0, 0, 0, 0, 0, 1, 0, 1, 0, 0, 1, 1, 0, 0, 1,\n",
              "       1, 1, 1, 1, 0, 1, 1, 0, 0, 1, 0, 1, 0, 0, 1, 1, 1, 0, 1, 0, 0, 0,\n",
              "       1, 0, 1, 1, 1, 1, 1, 1, 1, 1, 1, 0, 1, 1, 1, 0, 0, 1, 0, 0, 1, 1,\n",
              "       0, 0, 1, 0, 0, 0, 1, 0, 0, 0, 1, 0, 1, 0, 0, 0, 1, 1, 1, 0, 0, 0,\n",
              "       0, 0, 0, 0, 1, 1, 1, 0, 0, 0, 0, 1, 1, 1, 1, 0, 0, 0, 0, 1, 0, 0,\n",
              "       0, 1, 1, 0, 1, 0, 0, 0, 1, 0, 0, 0, 0, 1, 1, 0, 0, 0, 0, 1, 0, 0,\n",
              "       0, 0, 1, 1, 0, 0, 0, 0, 0, 0, 1, 1, 0, 0, 0, 1, 0, 0, 0, 0, 1, 0,\n",
              "       0, 0, 0, 1, 1, 0, 0, 1, 0, 0, 1, 0, 1, 1, 0, 1, 0, 1, 0, 0, 1, 0,\n",
              "       1, 0, 1, 1, 0, 1, 0, 1, 0, 0, 1, 0, 0, 0, 0, 0, 1, 1, 1, 1, 1, 0,\n",
              "       0, 1, 0, 0, 0, 1, 1, 1, 0, 1, 1, 1, 1, 1, 1, 1, 0, 0, 0, 1, 1, 0,\n",
              "       0, 0, 1, 0, 0, 1, 1, 0, 1, 1, 1, 0, 1, 0, 0, 1, 1, 1, 1, 1, 1, 1,\n",
              "       0, 0, 1, 0, 1, 0, 0, 1, 0, 0, 0, 0, 0, 1, 0, 0, 0, 1, 0, 0, 1, 0,\n",
              "       1, 0, 1, 1, 1, 0, 1, 0, 1, 0, 1, 0, 0, 0, 0, 1, 0, 0, 1, 1, 1, 1,\n",
              "       0, 1, 1, 0, 1, 1, 0, 0, 0, 1, 0, 0, 0, 1, 0, 1, 0, 1, 0, 0, 0, 1,\n",
              "       0, 1, 0, 1, 1, 1, 1, 1, 0, 1, 1, 1, 1, 0, 1, 0, 0, 1, 0, 1, 1, 0,\n",
              "       0, 0, 1, 0, 1, 0, 1, 1, 1, 0, 0, 1, 1, 0, 1, 0, 0, 0, 0, 1, 0, 0,\n",
              "       0, 0, 1, 1, 0, 0, 0, 1, 0, 0, 0, 0, 0, 0, 1, 1, 0, 0, 0, 0, 0, 0,\n",
              "       0, 1, 0, 1, 0, 0, 1, 0, 1, 0, 0, 1, 1, 1, 0, 1, 1, 0, 0, 1, 1, 1,\n",
              "       0, 1, 0, 0, 0, 1, 1, 1, 1, 1, 0, 0, 0, 1, 0, 0, 1, 0, 0, 0, 0, 0,\n",
              "       0, 0, 0, 0, 0, 0, 1, 0, 1, 0, 1, 0, 0, 1, 0, 1, 0])"
            ]
          },
          "metadata": {},
          "execution_count": 23
        }
      ]
    },
    {
      "cell_type": "code",
      "source": [
        "tweetsListform = test_texts['tweet'].tolist()\n",
        "\n",
        "for i in range(len(tweetsListform)):\n",
        "  if predictions.predictions.argmax(-1)[i] != predictions.label_ids[i]:\n",
        "    print(\"Tweet:\", tweetsListform [i])\n",
        "    print(\"Correct label:\", predictions.label_ids[i])\n",
        "    print(\"Assigned label: \", predictions.predictions.argmax(-1)[i])\n"
      ],
      "metadata": {
        "id": "MnvCp5dplL5e",
        "colab": {
          "base_uri": "https://localhost:8080/"
        },
        "outputId": "97000be6-bf5a-4034-8d79-79e915bc632b"
      },
      "execution_count": null,
      "outputs": [
        {
          "output_type": "stream",
          "name": "stdout",
          "text": [
            "Tweet: luego en marzo que adán saque la bufanda rosa del día de la mujer. hoy dice 'mi novia es sevillista y es una puta más'. ojalá sea un fake aunque no lo parece. url\n",
            "Correct label: 0\n",
            "Assigned label:  1\n",
            "Tweet: mi prima está esta mirando el partido y le dije q iban a perder y me dice cállate hija de puta q amor\n",
            "Correct label: 0\n",
            "Assigned label:  1\n",
            "Tweet: @pasivosumiso9 mi polla en tu culo!\n",
            "Correct label: 0\n",
            "Assigned label:  1\n",
            "Tweet: @mouwyv4 sabes que eres la polla como amigo y mereces la ostia, asi que déjate de esas cositas e.e\n",
            "Correct label: 0\n",
            "Assigned label:  1\n",
            "Tweet: 'mi novia es sevillista y es una puta más', entonó el portero del betis después de el derbi sevillano. ahora pide perdón. otro buen hijo :cara_con_lengua_de_dinero::cara_con_lengua_de_dinero:\n",
            "Correct label: 1\n",
            "Assigned label:  0\n",
            "Tweet: @julia55445365 julia vos tambien sos hermosa la puta madre callate\n",
            "Correct label: 0\n",
            "Assigned label:  1\n",
            "Tweet: tobias cállate la puta boca cuando suene la intro de ritual, esa guitarra llora para que le escuchen bien.\n",
            "Correct label: 0\n",
            "Assigned label:  1\n",
            "Tweet: @presidenciamx @epn ya callate ijo de puta\n",
            "Correct label: 0\n",
            "Assigned label:  1\n",
            "Tweet: adan, portero del betis no solo es tonto sino que lo celebra al cantico de ' mi novia es sevillista, una puta mas', tampoco se le puede pedir mas al chaval\n",
            "Correct label: 0\n",
            "Assigned label:  1\n",
            "Tweet: @juantaverash el acoso en la mujer es tan solo cuando el hombre no le gusta, si el hombre le gustara, no fuera acoso!!!\n",
            "Correct label: 1\n",
            "Assigned label:  0\n",
            "Tweet: @sorluciacaram cállate ya. nos tienes hartos a los españoles. queremos vivir en paz. lárgate a tu puta tierra y deja de inyectar odio. nos tienes hasta los musmis cojones!\n",
            "Correct label: 1\n",
            "Assigned label:  0\n",
            "Tweet: las ridículas de mi tl que juzgan qué es o no acoso mientras ellas no lo experimentan. midan con su feministómetro en otro lado, bai url\n",
            "Correct label: 0\n",
            "Assigned label:  1\n",
            "Tweet: @spainupcoc @cream_esportsgg @supersoro cream es la polla te lo mereces:cara_sonriendo_con_aureola:\n",
            "Correct label: 0\n",
            "Assigned label:  1\n",
            "Tweet: @joseprull la imagen de la vergüenza eres tu...tigre tu eres una puta vergüenza llorona\n",
            "Correct label: 0\n",
            "Assigned label:  1\n",
            "Tweet: camila: te amo una vida polla:pollito_de_frente: quien mejor que vos. sabes que mereces todo lo lindo en la vida, y ojalá estés siempre en la mía\n",
            "Correct label: 0\n",
            "Assigned label:  1\n",
            "Tweet: estás cabrón 'jodia golda puta tu eres para mí':cara_llorando_de_risa::cara_llorando_de_risa::cara_llorando_de_risa: url\n",
            "Correct label: 1\n",
            "Assigned label:  0\n",
            "Tweet: @alicia01mh @marta_agredano ¿qué clase de puta mierda de insulto es ese? cállate.\n",
            "Correct label: 1\n",
            "Assigned label:  0\n",
            "Tweet: anna, pesada, cállate. bueno, mira, es mi puta cuenta de twitter y la dedico a las putas mierdas que me dan la gana.\n",
            "Correct label: 0\n",
            "Assigned label:  1\n",
            "Tweet: @ambitocom cállate hoy!!!! la puta que te pario!!!! deja 1 día sin malas noticias... 1 día de paz!!!!! la recalcada concha de tu madre\n",
            "Correct label: 0\n",
            "Assigned label:  1\n",
            "Tweet: imbecil, vieja,horrible,bruja persecutoria ! eso como califica como acoso ?? se pasan de la rayita ! url\n",
            "Correct label: 1\n",
            "Assigned label:  0\n",
            "Tweet: se quejan del 'acoso' y hacen este tipo de publicidad.... y ahí van tu todas a 'provocar atracción masculina' url\n",
            "Correct label: 1\n",
            "Assigned label:  0\n",
            "Tweet: @arrobavjcl @geperez24 polla ya cállate mk jajajajaja deooojjjj\n",
            "Correct label: 0\n",
            "Assigned label:  1\n",
            "Tweet: mi novia es como mi polla. sé que está ahí porque de vez en cuando se levanta. una de mis pantalones y la otra de la cama.\n",
            "Correct label: 0\n",
            "Assigned label:  1\n",
            "Tweet: @perdiguerosipep @soniiaespinete obligado una polla!!!!listillo comete las croquetas y cállate ya.\n",
            "Correct label: 0\n",
            "Assigned label:  1\n",
            "Tweet: puta vi esta chica es un desastre ajajjajajaja url\n",
            "Correct label: 0\n",
            "Assigned label:  1\n",
            "Tweet: en ese vídeo falta de fondo la canción de; mi novia es más puta que la tuya :notas_musicales:\n",
            "Correct label: 1\n",
            "Assigned label:  0\n",
            "Tweet: @305paulamf @morphinegh @alvarovazquez91 hombre supongo que no todos!! pero si muy guarra se inventan insultos, graban vídeos y recortan, insultan al hermano en el instagram... su única defensa es insultar a raoul en vez de defender al suyo\n",
            "Correct label: 1\n",
            "Assigned label:  0\n",
            "Tweet: @jcpastrana @shadiafa esa gente es la escoria, solo merecian bombardeos! narcotraficantes! degenerados! verguenza deben sentir quienes votaron si! apoyaron la impunidad para las violaciones a niñas y a los abortos!\n",
            "Correct label: 1\n",
            "Assigned label:  0\n",
            "Tweet: y tú eres una maldita escoria con una repugnante inclinación por los hombres.. ¡seres como tú me producen náuseas! url\n",
            "Correct label: 0\n",
            "Assigned label:  1\n",
            "Tweet: @pachuvisconti @ailencabelier callate porque la ligas vos tambien bolsa de escoria\n",
            "Correct label: 0\n",
            "Assigned label:  1\n",
            "Tweet: @luu_oks ee nena cállate que ni zorra soy :cara_de_sueño:\n",
            "Correct label: 0\n",
            "Assigned label:  1\n",
            "Tweet: para vos gallina puta callate es idolo de todos dieguito url\n",
            "Correct label: 0\n",
            "Assigned label:  1\n",
            "Tweet: @facuponce05 cállate y deja d decir puta\n",
            "Correct label: 0\n",
            "Assigned label:  1\n",
            "Tweet: @ke_me_da_igual lo de mandar fotos de la polla es para provocar lástima?????jajaja!!\n",
            "Correct label: 0\n",
            "Assigned label:  1\n",
            "Tweet: y esto lo dicen despues de que sus jugadores canten 'puta sevilla', 'mi novia es sevillista y es una puta más'. los tienen cuadrados!! url\n",
            "Correct label: 0\n",
            "Assigned label:  1\n",
            "Tweet: @cooperativa es verdad...yo siempre acoso a mujeres de faldas hasta la rodilla y botas baqueras!! y el peinado tambien influye muchisimo...\n",
            "Correct label: 1\n",
            "Assigned label:  0\n",
            "Tweet: 'esta chica va a ser la madre de mis hijos' 'me encanta, es que esta chica es la polla' muriendo\n",
            "Correct label: 0\n",
            "Assigned label:  1\n",
            "Tweet: la misma zagala al zagal que le acompaña: 'tú eres gay de postureo. qué tienes 16 años y no has olido ni una polla'. ésta niña es una mina y por lo que parece, experta en pollas.\n",
            "Correct label: 1\n",
            "Assigned label:  0\n",
            "Tweet: nahir galarza es una de miles de imbeciles que matan pibes, cuiden a los varones, la moda es decir me acoso, y el pibe va preso.\n",
            "Correct label: 1\n",
            "Assigned label:  0\n",
            "Tweet: y las ves llorando x un amor de dos dias y tu k has sufrido x años callada como una puta estas sonriendo ai se ve la madurez :marca_de_beso:\n",
            "Correct label: 0\n",
            "Assigned label:  1\n",
            "Tweet: menos mal que no habia twitter en la edicion de virgina porque eso si que era acoso y derribo. y no las tonterias de este año. #otdirecto13d\n",
            "Correct label: 1\n",
            "Assigned label:  0\n",
            "Tweet: @camsmith0 @living_randomly @jadedagemstone @abbn0rmal_ @ogiiiiy_ i call my best friend puta zorra cerda imbécil. true love.\n",
            "Correct label: 0\n",
            "Assigned label:  1\n",
            "Tweet: esta mujer es una zorra :corazón_brillante::corazón_brillante::corazón_brillante::corazón_brillante::flecha_top:\n",
            "Correct label: 1\n",
            "Assigned label:  0\n",
            "Tweet: @abogadopenal @sasarandag yo creo que sí. primer ejemplo de acoso sexual: levantar la falda para ver enaguas.\n",
            "Correct label: 1\n",
            "Assigned label:  0\n",
            "Tweet: muchas personas creen q una mujer es abusada o acosada por ir muy descubierta, pero yo he visto acoso a mujeres por lo contrario también, mujeres cuya religión o creencias son otras y son acosadas por eso. eso demuestra q hay un standard tácito d mujer, y q se espera sea cubierto\n",
            "Correct label: 0\n",
            "Assigned label:  1\n",
            "Tweet: mónica naranjo cállate por toda tu puta vida, gracias.#otgala9\n",
            "Correct label: 0\n",
            "Assigned label:  1\n",
            "Tweet: @lonxwolf quiero que me hundas tu polla en la garganta, akemi... -dijo jadeando en su oreja, mordiéndola con fuerza acabando él provocado. por supuesto, obedeció y se movió hasta su en frente para quedar dispuesto ante él, de rodillas con las manos en el \n",
            "Correct label: 0\n",
            "Assigned label:  1\n",
            "Tweet: @bbcmundo lamentablemente ahora a todo le quieren llamar acoso, eso provocará radicalismo y falta de atención a casos reales que requerirán intervención penal, no caigamos en el juego de feminazis\n",
            "Correct label: 1\n",
            "Assigned label:  0\n",
            "Tweet: - ¡¡mi novia es sevillista y es una puta más oeee!! - casi que prefiero procrear con la serpiente, adán. - ¡¡ha sido penalti, eva!! - paraíso mis ovarios.\n",
            "Correct label: 0\n",
            "Assigned label:  1\n",
            "Tweet: #añonuevoencombate zorra callateeedd :cara_cabreada::cara_cabreada::cara_cabreada::cara_cabreada::cara_cabreada::cara_enfadada_con_cuernos::cara_enfadada_con_cuernos::cara_enfadada_con_cuernos::cara_enfadada_con_cuernos::cara_enfadada_con_cuernos::cara_enfadada_con_cuernos::cara_enfadada_con_cuernos::cara_sacando_la_lengua::cara_sacando_la_lengua::cara_sacando_la_lengua::cara_sacando_la_lengua::cara_sacando_la_lengua::gato_sonriendo::gato_sonriendo::gato_sonriendo::gato_sonriendo::gato_sonriendo::gato_sonriendo:\n",
            "Correct label: 1\n",
            "Assigned label:  0\n",
            "Tweet: @marisinha11 @cris_noticias callate hijo/a de puta. vos no trabajaras. basura. vemos los negros de mierda delincuentes que son. que asco dan basuras kks y zurdos. el estado somos los que no bancamos a la bitcj falsa abogada. somos los que pagamos impuesto\n",
            "Correct label: 1\n",
            "Assigned label:  0\n",
            "Tweet: al principio quería que eunice y teri terminaran juntas, pero teri fue una hija de puta con ella y no merecía su amor\n",
            "Correct label: 0\n",
            "Assigned label:  1\n",
            "Tweet: se levanta la falda, se sienta sobre mi polla y a saltar #video url\n",
            "Correct label: 0\n",
            "Assigned label:  1\n",
            "Tweet: @nachopuerta55 y la polla de roncero en tu culo!!\n",
            "Correct label: 0\n",
            "Assigned label:  1\n",
            "Tweet: marchena como entrenador ni zorra de como será,pero el oficio de central se lo podía enseñar a los nuestros,que mal no les iba a venir.\n",
            "Correct label: 0\n",
            "Assigned label:  1\n",
            "Tweet: me quedaría callada y después actuo como gata (re hija de puta) #iheardawards #bestboyband #bts @bts_twt url\n",
            "Correct label: 0\n",
            "Assigned label:  1\n",
            "Tweet: @alejanputa así es la escuela no vale madres, pretende enseñarle a las niñas que ser puta no es moral :/\n",
            "Correct label: 0\n",
            "Assigned label:  1\n",
            "Tweet: te lo diré con todas las letras. eres escoria. no mereces ni el aire que respiras. no creo que haga falta explicar porqué. url\n",
            "Correct label: 1\n",
            "Assigned label:  0\n",
            "Tweet: @animalastica quería enseñarle la polla a una tía, y ha terminado viéndola todo twitter.\n",
            "Correct label: 0\n",
            "Assigned label:  1\n",
            "Tweet: y nunca, jamás, salieron a provocar destrozos o a patotear a las fuerzas de seguridad... ¿entendes la puta diferencia, #maríaodonell? ¿o te hago un dibujo con cuadros de colores para que entiendas las diferencias? url\n",
            "Correct label: 1\n",
            "Assigned label:  0\n",
            "Tweet: @nahey312 mera cabron callate la puta boca, porque me encojono\n",
            "Correct label: 0\n",
            "Assigned label:  1\n",
            "Tweet: @capapeus @adacolau @antigilivatios tu puta madre sigue siendo igual de cerda. hijo de las 30mil putas. no merecias otro tipo de respuesta. he dicho.\n",
            "Correct label: 1\n",
            "Assigned label:  0\n",
            "Tweet: yo no soy envidioso pero te veo con él y me pongo celoso, dile que tu eres la que quiere, que yo nunca te acoso\n",
            "Correct label: 1\n",
            "Assigned label:  0\n",
            "Tweet: @ladivinadiva no se podría usar por el machismo que hay....considerarían que la mujer es una puta. lamentable.\n",
            "Correct label: 0\n",
            "Assigned label:  1\n",
            "Tweet: juro que esta chica es la polla, me ha hecho llorar :cara_llorando_fuerte::palo_de_corazones: gracias url\n",
            "Correct label: 0\n",
            "Assigned label:  1\n",
            "Tweet: peña llamando zorra a hyuna por hacer un mv moviendo el culo y enseñando canalillo menos mal que los coreanos no son machistas ni nada\n",
            "Correct label: 0\n",
            "Assigned label:  1\n",
            "Tweet: si me callo soy imbécil, si digo lo que pienso, soy una zorra. ya me diréis que coño hago?\n",
            "Correct label: 0\n",
            "Assigned label:  1\n",
            "Tweet: @camifernandez86 callate soy lo mejor que te paso en tu puta vida\n",
            "Correct label: 1\n",
            "Assigned label:  0\n",
            "Tweet: qué increíble como las mujeres son las primeras machistas “si se viste así no se puede quejar de acoso”, “si se viste así es por puta” dan asco chamitas.\n",
            "Correct label: 0\n",
            "Assigned label:  1\n",
            "Tweet: hola esta chica es una puta diosa. adios url\n",
            "Correct label: 0\n",
            "Assigned label:  1\n",
            "Tweet: esa es mi polla, que lindo verte disfrutar y crecer... mereces esto y más, por tu dedicación y talento!!! :dos_corazones: felicitaciones princesa! @vignaflorenc url\n",
            "Correct label: 0\n",
            "Assigned label:  1\n",
            "Tweet: @dosi_agll me hablas tu imbécil, supongo que tendrás la hombría de mantener el insulto no zorra?\n",
            "Correct label: 0\n",
            "Assigned label:  1\n",
            "Tweet: puta. zorra. guarra. eres mía. a ver esa minifalda. no vayas sola. no bebas. eres la del sexo débil. feminazi. entonces hay.. ¿igualdad? ¿dónde? ojalá que haya un 2018 como dios manda, ups! quise decir como la igualdad mande. y que la violencia de género deje de existir.\n",
            "Correct label: 0\n",
            "Assigned label:  1\n",
            "Tweet: las señoras artistas y drags van a ir vestidas de animalicos y cosas monis sin enseñar polla ni chocho. otra decepción para las fantasías enfermizas del pp y c’s.\n",
            "Correct label: 0\n",
            "Assigned label:  1\n",
            "Tweet: digo a y mi hermana ya esta 'callate zorra' jajajsjaaja\n",
            "Correct label: 0\n",
            "Assigned label:  1\n",
            "Tweet: @medicengaribay cállate zorra que él alcohólico aquí eres tú.\n",
            "Correct label: 0\n",
            "Assigned label:  1\n",
            "Tweet: @rissadirtymoney cállate puta, eres hermosa :corazón_morado:\n",
            "Correct label: 0\n",
            "Assigned label:  1\n",
            "Tweet: @marcoporchile tú eres una puta vergüenza\n",
            "Correct label: 0\n",
            "Assigned label:  1\n",
            "Tweet: tu eres mi puta y yo soy tu crush yo soy tu puto y tu eres mi cruz\n",
            "Correct label: 0\n",
            "Assigned label:  1\n",
            "Tweet: luna vete a hacer un vídeo con el niño polla, imbécil.\n",
            "Correct label: 1\n",
            "Assigned label:  0\n",
            "Tweet: @borjablueeyes @zekengod callate la puta boca de rubio que tienes\n",
            "Correct label: 0\n",
            "Assigned label:  1\n",
            "Tweet: “no estoy hablando con vos asi que callate gorda hija de puta. los gordos no tienen que comer. mirate lo que sos, gorda, gorda de mierda, das asco, hija de puta'. no me conoces ni te conozco luly vazquez, pero no merecés jamás maltrato. te abrazo. #gordofobia #stop\n",
            "Correct label: 0\n",
            "Assigned label:  1\n",
            "Tweet: a la puta cama de puta cállate la boca anormal.\n",
            "Correct label: 1\n",
            "Assigned label:  0\n",
            "Tweet: @peritoperoncho @chicaelectro callate gil!! sali a laburar trollo. en tu puta vida moviste un dedo.\n",
            "Correct label: 0\n",
            "Assigned label:  1\n",
            "Tweet: salma hayek no parece una mujer que permita el acoso y permanecer callada... yo lo hubiera hecho qué se arrastrara cómo un gusano!\n",
            "Correct label: 0\n",
            "Assigned label:  1\n",
            "Tweet: ojalá ryan gosling entrando por mi polla que esto es un adeptus mechanicus o imbecil, mas probable.\n",
            "Correct label: 0\n",
            "Assigned label:  1\n",
            "Tweet: @apes_cat @adacolau lo peor son todos los garrulos/analfabetos bailando al son de su flauta... esta mujer es escoria política\n",
            "Correct label: 1\n",
            "Assigned label:  0\n",
            "Tweet: los bailes sexis de mi primo se van a la mierda cuando empieza a cantar: 'tu novia es puta con mi pingo se ahoga y vos no decis nada porque sos un toga' :cara_llorando_de_risa::cara_llorando_de_risa::cara_llorando_de_risa::cara_llorando_de_risa::cara_llorando_de_risa:\n",
            "Correct label: 1\n",
            "Assigned label:  0\n",
            "Tweet: analicemos esto: ¿si te pones unos shorts así, en la calle, ¿qué esperas que te digan? ¿acoso? ¿o provocación... url\n",
            "Correct label: 1\n",
            "Assigned label:  0\n",
            "Tweet: @_candelanievas manga de pitos cortos hijos de puta les voy en enseñar lo q es respeto puto de la patada en sus partes intimas que les voy a dar y mujeres ustedes tampoco se salvan conchas retobadas\n",
            "Correct label: 1\n",
            "Assigned label:  0\n",
            "Tweet: si ella me quiere enseñar las tetas? pues vale no voy a ver nada nuevo puta:marca_de_cruz: si ella me quiere enseñar el cerebro? pues de puta madre podemos hablar de los microorganismos del funcionamiento de las moléculas :botón_de_marca_de_verificación: pd: el culo y las tetas se caen date a girl with cerebro es eterno\n",
            "Correct label: 1\n",
            "Assigned label:  0\n",
            "Tweet: @sabrydearmas06 tú eres mi polla:colisión::cara_llorando_de_risa::corazón_rojo:\n",
            "Correct label: 0\n",
            "Assigned label:  1\n",
            "Tweet: ahora todas con un discurso feminista, pero cuando veis a una tía con escote o liándose con quien le da la gana, la llamáis guarra\n",
            "Correct label: 0\n",
            "Assigned label:  1\n",
            "Tweet: poesía. orgasmos. sábanas revueltas. mi polla en tu cara. ¿he dicho ya orgasmos? pásame otro gramo. que voy tó jamao. #neopoesía\n",
            "Correct label: 0\n",
            "Assigned label:  1\n",
            "Tweet: marías: no escribes tan bien como para poder permitirte ser tan subnormal. cállate ya un rato, hostia puta. un beso y feliz navidad.\n",
            "Correct label: 0\n",
            "Assigned label:  1\n",
            "Tweet: esta chica es muy linda y muy buena, una lástima que no seas mas hija de puta y brava\n",
            "Correct label: 0\n",
            "Assigned label:  1\n",
            "Tweet: @cristipedroche ole tu eres la puta ama #memolaturollo\n",
            "Correct label: 0\n",
            "Assigned label:  1\n",
            "Tweet: para colmo le soplan puras estupideses... 'shhiii cállate... haste el tonto... nooo won no digas eso... puta q la cagaste...' url\n",
            "Correct label: 0\n",
            "Assigned label:  1\n",
            "Tweet: @judithperez2468 @errjavii @elgranjl_ te mereces que te hackeen, escoria @errjavii jajaj\n",
            "Correct label: 1\n",
            "Assigned label:  0\n",
            "Tweet: @dangellmorales @pau3monticelli nooo tu eres una mierda de persona, escoria, una persona que da asco, fatiguita, angustia, lache, vergüenza, gilipollas y un largo etc un muaki niña que me voy a dormir\n",
            "Correct label: 1\n",
            "Assigned label:  0\n",
            "Tweet: vamos flor la puta madre, te lo re mereces grosa!!!! @flor_vigna\n",
            "Correct label: 0\n",
            "Assigned label:  1\n",
            "Tweet: ¡cállate maldita escoria! ¡¿acaso no sabes con quién hablas?! ¡hablas con baron explodo kills el mejor héroe de u.a quien destrozara tu jodida cara de mierda! ¡haré que te arrepientas y te metas tus asquerosas idioteces por el orto! url\n",
            "Correct label: 0\n",
            "Assigned label:  1\n",
            "Tweet: que si uno es puta, que si uno es lo otro, mij@ cállate la boca y vive y deja vivir al final la qk no es de ninguno de los que habla mierda\n",
            "Correct label: 0\n",
            "Assigned label:  1\n",
            "Tweet: aveces me pregunto si a esas chavas no les enseñaron algo de valores.... vestirme como puta actuar como puta y llamar la atención está cabron....\n",
            "Correct label: 1\n",
            "Assigned label:  0\n",
            "Tweet: buah qué guarra eres por llevar escote unga unga qué puta unga unga llegaré a chuparme la polla? unga unga url\n",
            "Correct label: 0\n",
            "Assigned label:  1\n",
            "Tweet: cállate que estoy cantando maldita escoria\n",
            "Correct label: 0\n",
            "Assigned label:  1\n",
            "Tweet: @mendes98luks callate vos pedazo de escoria #paraguayneedsshawn\n",
            "Correct label: 0\n",
            "Assigned label:  1\n",
            "Tweet: @dalasreview @patripajaroazul @santaeneas @markodiaza @raychispper dalas tu eres la escoria ademas nadie se acostaria con tu hermana con oo fea q es.\n",
            "Correct label: 1\n",
            "Assigned label:  0\n",
            "Tweet: @chaniluz1 @gerardotc si, y las tonterías del sieso y la pelo polla también...\n",
            "Correct label: 0\n",
            "Assigned label:  1\n",
            "Tweet: a ver,en serio algún tio cree que por enseñar su polla tendrá la atención de alguien? yo,desde luego no... url\n",
            "Correct label: 0\n",
            "Assigned label:  1\n",
            "Tweet: trump arremete contra las mujeres que lo acusan de acoso sexual; asegura que las denuncias de las 16 mujeres son 'historias inventadas' url url\n",
            "Correct label: 0\n",
            "Assigned label:  1\n",
            "Tweet: @axxxellm jajaja vos mejor callate, zorra. yo también te amo y me voy a comer todas las gordas que sean necesarias, ok?\n",
            "Correct label: 0\n",
            "Assigned label:  1\n",
            "Tweet: @ninya_repolio nos vas a enseñar la polla???\n",
            "Correct label: 0\n",
            "Assigned label:  1\n",
            "Tweet: no es acoso sexual si la mujer obtiene un beneficio por ello. se llama prostitución. ridículas.\n",
            "Correct label: 1\n",
            "Assigned label:  0\n",
            "Tweet: mira tu callate la única de mi clase que va voy a comer una polla pero literalmente sabes a cocinarla y eso\n",
            "Correct label: 0\n",
            "Assigned label:  1\n",
            "Tweet: @iulia_sm @aleexgarcia01 a mí no me vengas con tonterías de twittera me suda la polla q te encante yo tengo mi opinion y se la he contado a mi colega, un beso\n",
            "Correct label: 1\n",
            "Assigned label:  0\n",
            "Tweet: @joseameadek cállate puta rata despintada url\n",
            "Correct label: 0\n",
            "Assigned label:  1\n",
            "Tweet: 'en un país donde 16 mujeres son agredidas sexualmente cada hora, banalizar las formas de acoso sexual resulta inac… url\n",
            "Correct label: 0\n",
            "Assigned label:  1\n",
            "Tweet: mis tios diciendo que ines arrimadas es una zorra, a ver callate la boca\n",
            "Correct label: 0\n",
            "Assigned label:  1\n",
            "Tweet: hey @loli_chichona: tu nabo es una polla pequeña y tú eres un cornudo\n",
            "Correct label: 0\n",
            "Assigned label:  1\n",
            "Tweet: @erikarojas__ ah dos perdonas si pq le han dado fav así que callate la puta boca porque sé donde vives y no me cuesta nada quemarte viva a ti y a tu perro pero salvando a tus hermanos que me caen guay (es broma, también salvaría s tu perro)\n",
            "Correct label: 1\n",
            "Assigned label:  0\n",
            "Tweet: @hoseokswhxre tu eres putifandom porque quien no es puta no disfruta airw\n",
            "Correct label: 0\n",
            "Assigned label:  1\n",
            "Tweet: @juanestebaanc @movingto_mars cállate la puta boca\n",
            "Correct label: 0\n",
            "Assigned label:  1\n",
            "Tweet: ya nos hemos pasado si el simple echo de guiñarle un ojo a una mujer es acoso ¡¡¡¡¡¡ dos mio que alguien me diga como se liga hoy en día ¡¡¡¡¡\n",
            "Correct label: 1\n",
            "Assigned label:  0\n",
            "Tweet: @menezrm cállate ya un poco con isco, que es una puta peonza\n",
            "Correct label: 0\n",
            "Assigned label:  1\n",
            "Tweet: y hola, hablamos por favor de lo puta ama que es carlota, es que esa mujer es mi spirit animal\n",
            "Correct label: 0\n",
            "Assigned label:  1\n",
            "Tweet: 1cosa que no entiendo es porque un tío puede enseñar la polla en redes sociales pero si una tía enseña las tetas,el chichi o lo que sea se ve mal es así o me equivoco? porque creo que no,creo que todavía falta cierta libertad o mentalidad abierta mejor dicho\n",
            "Correct label: 1\n",
            "Assigned label:  0\n",
            "Tweet: @rolaaaa454 jajaja me encanta por que soy vecino suyo y la mujer es tan hijo de puta como lo es el,sabes a que se dedicaba esa tía hace 15 años cuando salía a emborracharse y pegarle palizas a otras tías,pero debe ser cosa del patriarcado.\n",
            "Correct label: 1\n",
            "Assigned label:  0\n",
            "Tweet: qué asco hacerles pensar a tus fans que las víctimas de acoso/violación deberían quedarse calladas.\n",
            "Correct label: 1\n",
            "Assigned label:  0\n",
            "Tweet: @manu_sainz @elchiringuito el papapapartido imimimporta... callate tartaja!!! come polla de madeira\n",
            "Correct label: 0\n",
            "Assigned label:  1\n",
            "Tweet: 'las #mujeres son las mayores víctimas del #acoso a través de las plataformas digitales', josé maría lassalle url vía @expansioncom #digital #tecnología\n",
            "Correct label: 0\n",
            "Assigned label:  1\n",
            "Tweet: @weps_unas no se puede decir más gilipolleces y más tonterías juntas en tan poco espacio, no tienes ni puta idea de lo que estás diciendo\n",
            "Correct label: 1\n",
            "Assigned label:  0\n",
            "Tweet: @professoraxel nggg! —su polla se marca en la garganta.—\n",
            "Correct label: 0\n",
            "Assigned label:  1\n",
            "Tweet: @buitro666 @josocristo @wismichu no te enseñaron a no meterte en conversaciones agenas? nah que va ni zorra de quien eres pero yo tk\n",
            "Correct label: 0\n",
            "Assigned label:  1\n",
            "Tweet: @todonoticias callate hdp q vos con tus simios kk p o.pj ykk son la escoria rentada de este pais de cuarta gracias mugriento charlatan.segui cobrando 200 lucas y manda a los negros violentos a la calle\n",
            "Correct label: 0\n",
            "Assigned label:  1\n",
            "Tweet: @beatlelvira mejor, porque tu eres la super polla\n",
            "Correct label: 0\n",
            "Assigned label:  1\n",
            "Tweet: @yolandaruizrcn @elespectador se puede llamar acoso cuando algunas mujeres usan minifaldas, escotes, descaderados, transparencias etc, para provocarnos ?\n",
            "Correct label: 1\n",
            "Assigned label:  0\n",
            "Tweet: @_kayligonzales_ puta men ya callate\n",
            "Correct label: 0\n",
            "Assigned label:  1\n",
            "Tweet: @quierollamarme1 tú eres tonta y semejante a este asesino. estimar a este hijo de puta, hay que ser gilipollas y acémila\n",
            "Correct label: 1\n",
            "Assigned label:  0\n",
            "Tweet: un jugador de mi equipo canta 'mi novia es sevillista y es una puta más' tras el derbi. pide perdón y la gente le dice que no debe disculparse, que son cánticos normales de la rivalidad. y luego nos sorprendemos de que pasen las cosas que pasan... url\n",
            "Correct label: 0\n",
            "Assigned label:  1\n",
            "Tweet: @lamacope para q le chupe la polla. que eres un pesao callate ya\n",
            "Correct label: 1\n",
            "Assigned label:  0\n",
            "Tweet: @juangallagherr @mariand28 @jaypereyra1 @jorgesrno @cristina51623 jajajajajaj tú eres la puta juanito, testraño\n",
            "Correct label: 0\n",
            "Assigned label:  1\n",
            "Tweet: si lo hace un hombre es acoso, si lo hace una mujer es un chiste. la guerra de la izquierda contra los hombres... url\n",
            "Correct label: 1\n",
            "Assigned label:  0\n",
            "Tweet: mirar n buen trasero o un buen escote es acoso??\n",
            "Correct label: 1\n",
            "Assigned label:  0\n",
            "Tweet: @zalacai75 @alianzapanamena si eres gay eres una escoria y no mereces derechos...\n",
            "Correct label: 0\n",
            "Assigned label:  1\n",
            "Tweet: @sr_haru_l sería un honor enseñarle a mi hija como ser una buena zorra:corazón_brillante:\n",
            "Correct label: 1\n",
            "Assigned label:  0\n",
            "Tweet: @elojoninja tu eres mejor que esa escoria jejejejeje url\n",
            "Correct label: 0\n",
            "Assigned label:  1\n",
            "Tweet: @cohanxmcbride que la re puta madre que micaela la concha de su madre no puedo creerlo ay te lo mereces pendeja la puta que me pario ves loca por eso sos tan crack te amo te idolatro te cojbueno eso no iba\n",
            "Correct label: 1\n",
            "Assigned label:  0\n",
            "Tweet: moni me voy a cagar en tu puta calavera callate la puta boca con graceland 0 spoilers\n",
            "Correct label: 0\n",
            "Assigned label:  1\n",
            "Tweet: @clarii_alderete @mapazbelen entonces, si seguimos esa lógica, el acoso sexual contra la mujer es más grave que el acoso sexual contra el hombre sólo porque registra más casos? me sorprende dicha interpretación viniendo de vos, clara.\n",
            "Correct label: 1\n",
            "Assigned label:  0\n",
            "Tweet: @saancisco callate puta tu eres el traidor.\n",
            "Correct label: 0\n",
            "Assigned label:  1\n",
            "Tweet: no veo ot, pero esta mujer es una puta estrella!!!:cara_gritando_de_miedo::cara_gritando_de_miedo::cara_gritando_de_miedo::cara_gritando_de_miedo::cara_gritando_de_miedo: buenos días. url\n",
            "Correct label: 0\n",
            "Assigned label:  1\n",
            "Tweet: @onfirespos le decía cállate la puta que te parió, invitame a cantar con vos, no te das cuenta que te amo? dale porque yoooo no quiero ser tu noviaaa, y las palmas arriba bien arriba bien arribaaaa no me importa tu historia asbsbdisa eeeee wacho la birra,\n",
            "Correct label: 0\n",
            "Assigned label:  1\n",
            "Tweet: si la chica es gordita y le gusta usar bikini dejala a ella le gusta, si la piba es puta y ni con vos ni con tu novio se mete dejala, si no es linda y se maquilla para sentirse bien dejala, es mas tarado el que critica si ellas estan bien asi chupate mansa\n",
            "Correct label: 0\n",
            "Assigned label:  1\n",
            "Tweet: #sinrollo yo no me quedaría callada six acoso sexual , lo haría de inmediato, no esperaría como tod@s estas gente hablar después de tantos años.\n",
            "Correct label: 1\n",
            "Assigned label:  0\n",
            "Tweet: @stevendidierh @candeecarranza callate que estamos de la panza por tu puta amarena\n",
            "Correct label: 0\n",
            "Assigned label:  1\n",
            "Tweet: @claudialopez como no apreciar un escote profundo un elegante vestido o una minifalda encantadora esto no es acoso hace parte de la magia mujer hombre si una persona se siente acosada al primer instante debe manifestarlo no hacer un juego y luego un escán\n",
            "Correct label: 1\n",
            "Assigned label:  0\n",
            "Tweet: @tuitomigue @wladigamez trabajas para la rae? no verdad,pues cállate la puta boca.\n",
            "Correct label: 0\n",
            "Assigned label:  1\n",
            "Tweet: enhorabuena por las mujeres, madres de familia, que han sufrido calladas muchos años el acoso de hombres inmorales! url\n",
            "Correct label: 0\n",
            "Assigned label:  1\n",
            "Tweet: @rodrigoreveco cállate zorra\n",
            "Correct label: 0\n",
            "Assigned label:  1\n",
            "Tweet: @celeroldan11 @lucasspadafora callate yo me lo descarge yegua hija de puta en el grupo haces lo mismo y de paso te dejo a moria url\n",
            "Correct label: 0\n",
            "Assigned label:  1\n",
            "Tweet: @irinaaramirez pero eso ya se empezo a notar amiga no habia que hacerlo saber jajajajajaja callate zorra\n",
            "Correct label: 0\n",
            "Assigned label:  1\n",
            "Tweet: jjajjaaja callate hija d puta q abimos temprano hoy — a las 6 fui desp a las 8 y seguia cerrado gil de mierda url\n",
            "Correct label: 0\n",
            "Assigned label:  1\n",
            "Tweet: @fanderfalconi marica cabron eres el menos indicado a opinar hijo de puta. con la zorra de mujer que tienes cállate que me dan asco par de brutos. dios cria y junta par de burros.\n",
            "Correct label: 1\n",
            "Assigned label:  0\n",
            "Tweet: cállate negro ql ! cualquier numero 1!he sacado más que voh ! tú anda cuidarle la zorra a la gigi mejor mira que en cualquier momento te deja por otro cantante #partychilensisftwebeo url\n",
            "Correct label: 0\n",
            "Assigned label:  1\n",
            "Tweet: @voguedoblas cállate puta que eres mas importante para mi de lo que crees >:(\n",
            "Correct label: 0\n",
            "Assigned label:  1\n",
            "Tweet: @juandiegozelaya callate, son la peor escoria... malditos vos y tu partido ojalá ocupes rivotril para dormir porque no tenes una glándula que los hdp no tienen que es conciencia.\n",
            "Correct label: 0\n",
            "Assigned label:  1\n"
          ]
        }
      ]
    },
    {
      "cell_type": "code",
      "source": [],
      "metadata": {
        "id": "WBEnDGE_mwB9"
      },
      "execution_count": null,
      "outputs": []
    }
  ],
  "metadata": {
    "colab": {
      "provenance": [],
      "mount_file_id": "1YXVW8nD-L6CbB9goD8hcSxyPxG8ge5ru",
      "authorship_tag": "ABX9TyMITGlCW4VGyWSqFah1ilBM",
      "include_colab_link": true
    },
    "gpuClass": "standard",
    "kernelspec": {
      "display_name": "Python 3",
      "name": "python3"
    },
    "language_info": {
      "name": "python"
    },
    "accelerator": "GPU"
  },
  "nbformat": 4,
  "nbformat_minor": 0
}