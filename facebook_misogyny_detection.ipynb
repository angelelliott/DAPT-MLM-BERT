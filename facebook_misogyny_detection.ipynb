{
  "nbformat": 4,
  "nbformat_minor": 0,
  "metadata": {
    "colab": {
      "provenance": [],
      "gpuClass": "premium",
      "mount_file_id": "1i7FPYe-OEyLxUpbIgSEdClQ8kL1qriIa",
      "authorship_tag": "ABX9TyNNueh31AGJIO790+2mUdn7",
      "include_colab_link": true
    },
    "kernelspec": {
      "name": "python3",
      "display_name": "Python 3"
    },
    "language_info": {
      "name": "python"
    },
    "accelerator": "GPU",
    "gpuClass": "premium"
  },
  "cells": [
    {
      "cell_type": "markdown",
      "metadata": {
        "id": "view-in-github",
        "colab_type": "text"
      },
      "source": [
        "<a href=\"https://colab.research.google.com/github/angelelliott/miso-bert/blob/main/facebook_misogyny_detection.ipynb\" target=\"_parent\"><img src=\"https://colab.research.google.com/assets/colab-badge.svg\" alt=\"Open In Colab\"/></a>"
      ]
    },
    {
      "cell_type": "code",
      "execution_count": null,
      "metadata": {
        "id": "rDrp4QabX_xe"
      },
      "outputs": [],
      "source": [
        "#!pip install transformers"
      ]
    },
    {
      "cell_type": "code",
      "source": [
        "#!pip install emoji --upgrade"
      ],
      "metadata": {
        "id": "EyxeDgg1YM4b"
      },
      "execution_count": null,
      "outputs": []
    },
    {
      "cell_type": "code",
      "source": [
        "# Import necessary libraries\n",
        "import pandas as pd\n",
        "import torch\n",
        "import torch.nn as nn\n",
        "from sklearn.model_selection import train_test_split\n",
        "from sklearn.metrics import classification_report\n",
        "import transformers\n",
        "from transformers import BertTokenizer, BertForSequenceClassification\n",
        "import emoji\n",
        "import re"
      ],
      "metadata": {
        "id": "sja_9HD5YF9A"
      },
      "execution_count": null,
      "outputs": []
    },
    {
      "cell_type": "code",
      "source": [
        "# load dataset\n",
        "\n",
        "dataset  = pd.read_csv(\"/content/drive/MyDrive/myModels/MISOFB-22\")"
      ],
      "metadata": {
        "id": "J8204m1iYfkf"
      },
      "execution_count": null,
      "outputs": []
    },
    {
      "cell_type": "code",
      "source": [
        "dataset.head()"
      ],
      "metadata": {
        "colab": {
          "base_uri": "https://localhost:8080/",
          "height": 206
        },
        "id": "86vGdcLtZDzi",
        "outputId": "e1abaeeb-c7fb-4a30-e29c-36a14d407b2b"
      },
      "execution_count": null,
      "outputs": [
        {
          "output_type": "execute_result",
          "data": {
            "text/plain": [
              "   Unnamed: 0                                               POST  MISOGYNOUS\n",
              "0           1  Holaaaaa Ari??pues mira yo te recomendaría que...           0\n",
              "1           3  El mío es dragón Ball Budokai Tenkaichi 3 Lati...           0\n",
              "2           4  Rifate con una serie de Minecraft vanilla sin ...           0\n",
              "3           7  El juego de tus ojos con tus labios y tu voz e...           0\n",
              "4           8  Clahs royal me divierto verte jugar Clahs. Ere...           0"
            ],
            "text/html": [
              "\n",
              "  <div id=\"df-0c9dd8f6-932f-40b6-bfb9-7084bc0b3d93\">\n",
              "    <div class=\"colab-df-container\">\n",
              "      <div>\n",
              "<style scoped>\n",
              "    .dataframe tbody tr th:only-of-type {\n",
              "        vertical-align: middle;\n",
              "    }\n",
              "\n",
              "    .dataframe tbody tr th {\n",
              "        vertical-align: top;\n",
              "    }\n",
              "\n",
              "    .dataframe thead th {\n",
              "        text-align: right;\n",
              "    }\n",
              "</style>\n",
              "<table border=\"1\" class=\"dataframe\">\n",
              "  <thead>\n",
              "    <tr style=\"text-align: right;\">\n",
              "      <th></th>\n",
              "      <th>Unnamed: 0</th>\n",
              "      <th>POST</th>\n",
              "      <th>MISOGYNOUS</th>\n",
              "    </tr>\n",
              "  </thead>\n",
              "  <tbody>\n",
              "    <tr>\n",
              "      <th>0</th>\n",
              "      <td>1</td>\n",
              "      <td>Holaaaaa Ari??pues mira yo te recomendaría que...</td>\n",
              "      <td>0</td>\n",
              "    </tr>\n",
              "    <tr>\n",
              "      <th>1</th>\n",
              "      <td>3</td>\n",
              "      <td>El mío es dragón Ball Budokai Tenkaichi 3 Lati...</td>\n",
              "      <td>0</td>\n",
              "    </tr>\n",
              "    <tr>\n",
              "      <th>2</th>\n",
              "      <td>4</td>\n",
              "      <td>Rifate con una serie de Minecraft vanilla sin ...</td>\n",
              "      <td>0</td>\n",
              "    </tr>\n",
              "    <tr>\n",
              "      <th>3</th>\n",
              "      <td>7</td>\n",
              "      <td>El juego de tus ojos con tus labios y tu voz e...</td>\n",
              "      <td>0</td>\n",
              "    </tr>\n",
              "    <tr>\n",
              "      <th>4</th>\n",
              "      <td>8</td>\n",
              "      <td>Clahs royal me divierto verte jugar Clahs. Ere...</td>\n",
              "      <td>0</td>\n",
              "    </tr>\n",
              "  </tbody>\n",
              "</table>\n",
              "</div>\n",
              "      <button class=\"colab-df-convert\" onclick=\"convertToInteractive('df-0c9dd8f6-932f-40b6-bfb9-7084bc0b3d93')\"\n",
              "              title=\"Convert this dataframe to an interactive table.\"\n",
              "              style=\"display:none;\">\n",
              "        \n",
              "  <svg xmlns=\"http://www.w3.org/2000/svg\" height=\"24px\"viewBox=\"0 0 24 24\"\n",
              "       width=\"24px\">\n",
              "    <path d=\"M0 0h24v24H0V0z\" fill=\"none\"/>\n",
              "    <path d=\"M18.56 5.44l.94 2.06.94-2.06 2.06-.94-2.06-.94-.94-2.06-.94 2.06-2.06.94zm-11 1L8.5 8.5l.94-2.06 2.06-.94-2.06-.94L8.5 2.5l-.94 2.06-2.06.94zm10 10l.94 2.06.94-2.06 2.06-.94-2.06-.94-.94-2.06-.94 2.06-2.06.94z\"/><path d=\"M17.41 7.96l-1.37-1.37c-.4-.4-.92-.59-1.43-.59-.52 0-1.04.2-1.43.59L10.3 9.45l-7.72 7.72c-.78.78-.78 2.05 0 2.83L4 21.41c.39.39.9.59 1.41.59.51 0 1.02-.2 1.41-.59l7.78-7.78 2.81-2.81c.8-.78.8-2.07 0-2.86zM5.41 20L4 18.59l7.72-7.72 1.47 1.35L5.41 20z\"/>\n",
              "  </svg>\n",
              "      </button>\n",
              "      \n",
              "  <style>\n",
              "    .colab-df-container {\n",
              "      display:flex;\n",
              "      flex-wrap:wrap;\n",
              "      gap: 12px;\n",
              "    }\n",
              "\n",
              "    .colab-df-convert {\n",
              "      background-color: #E8F0FE;\n",
              "      border: none;\n",
              "      border-radius: 50%;\n",
              "      cursor: pointer;\n",
              "      display: none;\n",
              "      fill: #1967D2;\n",
              "      height: 32px;\n",
              "      padding: 0 0 0 0;\n",
              "      width: 32px;\n",
              "    }\n",
              "\n",
              "    .colab-df-convert:hover {\n",
              "      background-color: #E2EBFA;\n",
              "      box-shadow: 0px 1px 2px rgba(60, 64, 67, 0.3), 0px 1px 3px 1px rgba(60, 64, 67, 0.15);\n",
              "      fill: #174EA6;\n",
              "    }\n",
              "\n",
              "    [theme=dark] .colab-df-convert {\n",
              "      background-color: #3B4455;\n",
              "      fill: #D2E3FC;\n",
              "    }\n",
              "\n",
              "    [theme=dark] .colab-df-convert:hover {\n",
              "      background-color: #434B5C;\n",
              "      box-shadow: 0px 1px 3px 1px rgba(0, 0, 0, 0.15);\n",
              "      filter: drop-shadow(0px 1px 2px rgba(0, 0, 0, 0.3));\n",
              "      fill: #FFFFFF;\n",
              "    }\n",
              "  </style>\n",
              "\n",
              "      <script>\n",
              "        const buttonEl =\n",
              "          document.querySelector('#df-0c9dd8f6-932f-40b6-bfb9-7084bc0b3d93 button.colab-df-convert');\n",
              "        buttonEl.style.display =\n",
              "          google.colab.kernel.accessAllowed ? 'block' : 'none';\n",
              "\n",
              "        async function convertToInteractive(key) {\n",
              "          const element = document.querySelector('#df-0c9dd8f6-932f-40b6-bfb9-7084bc0b3d93');\n",
              "          const dataTable =\n",
              "            await google.colab.kernel.invokeFunction('convertToInteractive',\n",
              "                                                     [key], {});\n",
              "          if (!dataTable) return;\n",
              "\n",
              "          const docLinkHtml = 'Like what you see? Visit the ' +\n",
              "            '<a target=\"_blank\" href=https://colab.research.google.com/notebooks/data_table.ipynb>data table notebook</a>'\n",
              "            + ' to learn more about interactive tables.';\n",
              "          element.innerHTML = '';\n",
              "          dataTable['output_type'] = 'display_data';\n",
              "          await google.colab.output.renderOutput(dataTable, element);\n",
              "          const docLink = document.createElement('div');\n",
              "          docLink.innerHTML = docLinkHtml;\n",
              "          element.appendChild(docLink);\n",
              "        }\n",
              "      </script>\n",
              "    </div>\n",
              "  </div>\n",
              "  "
            ]
          },
          "metadata": {},
          "execution_count": 5
        }
      ]
    },
    {
      "cell_type": "code",
      "source": [
        "dataset.dropna(inplace = True)"
      ],
      "metadata": {
        "id": "M0ezSMNeZR18"
      },
      "execution_count": null,
      "outputs": []
    },
    {
      "cell_type": "code",
      "source": [
        "len(dataset)"
      ],
      "metadata": {
        "colab": {
          "base_uri": "https://localhost:8080/"
        },
        "id": "Ge5OSh5AZdvr",
        "outputId": "4f498ce0-d74a-4459-c1df-39f8fd7eb262"
      },
      "execution_count": null,
      "outputs": [
        {
          "output_type": "execute_result",
          "data": {
            "text/plain": [
              "2468"
            ]
          },
          "metadata": {},
          "execution_count": 7
        }
      ]
    },
    {
      "cell_type": "code",
      "source": [
        "dataset = dataset.drop(columns=['Unnamed: 0'])"
      ],
      "metadata": {
        "id": "gBEE5A9QZf1Q"
      },
      "execution_count": null,
      "outputs": []
    },
    {
      "cell_type": "code",
      "source": [
        "# find length of the longest string\n",
        "len(max(dataset['POST'].tolist(), key = len))"
      ],
      "metadata": {
        "colab": {
          "base_uri": "https://localhost:8080/"
        },
        "id": "Rp2ozisyZv3U",
        "outputId": "d711805c-1236-4ec8-b074-bcff13bdf8f6"
      },
      "execution_count": null,
      "outputs": [
        {
          "output_type": "execute_result",
          "data": {
            "text/plain": [
              "561"
            ]
          },
          "metadata": {},
          "execution_count": 9
        }
      ]
    },
    {
      "cell_type": "code",
      "source": [
        "#lowercase, change urls for url, usernames for usuario, change format of emojis\n",
        "\n",
        "url = re.compile(r'http\\S+')\n",
        "mention = re.compile(r'@\\S+')\n",
        "dataset['POST'] =  dataset['POST'].str.lower()\n",
        "dataset['POST'] = [url.sub('url', x) for x in dataset['POST']]\n",
        "dataset['POST']= [mention.sub('usuario', x) for x in dataset['POST']]\n",
        "dataset['POST'] = [emoji.demojize(x, language='es') for x in dataset['POST']]"
      ],
      "metadata": {
        "id": "btpIfb-wYIfd"
      },
      "execution_count": null,
      "outputs": []
    },
    {
      "cell_type": "code",
      "source": [
        "dataset.head()"
      ],
      "metadata": {
        "colab": {
          "base_uri": "https://localhost:8080/",
          "height": 206
        },
        "id": "VwQ4Bap2YTNW",
        "outputId": "54f5d593-e44e-40fd-9752-ebc7ed79fa26"
      },
      "execution_count": null,
      "outputs": [
        {
          "output_type": "execute_result",
          "data": {
            "text/plain": [
              "                                                POST  MISOGYNOUS\n",
              "0  holaaaaa ari??pues mira yo te recomendaría que...           0\n",
              "1  el mío es dragón ball budokai tenkaichi 3 lati...           0\n",
              "2  rifate con una serie de minecraft vanilla sin ...           0\n",
              "3  el juego de tus ojos con tus labios y tu voz e...           0\n",
              "4  clahs royal me divierto verte jugar clahs. ere...           0"
            ],
            "text/html": [
              "\n",
              "  <div id=\"df-d2cb02ad-3e66-4c6a-80f2-388aa6fbbdf2\">\n",
              "    <div class=\"colab-df-container\">\n",
              "      <div>\n",
              "<style scoped>\n",
              "    .dataframe tbody tr th:only-of-type {\n",
              "        vertical-align: middle;\n",
              "    }\n",
              "\n",
              "    .dataframe tbody tr th {\n",
              "        vertical-align: top;\n",
              "    }\n",
              "\n",
              "    .dataframe thead th {\n",
              "        text-align: right;\n",
              "    }\n",
              "</style>\n",
              "<table border=\"1\" class=\"dataframe\">\n",
              "  <thead>\n",
              "    <tr style=\"text-align: right;\">\n",
              "      <th></th>\n",
              "      <th>POST</th>\n",
              "      <th>MISOGYNOUS</th>\n",
              "    </tr>\n",
              "  </thead>\n",
              "  <tbody>\n",
              "    <tr>\n",
              "      <th>0</th>\n",
              "      <td>holaaaaa ari??pues mira yo te recomendaría que...</td>\n",
              "      <td>0</td>\n",
              "    </tr>\n",
              "    <tr>\n",
              "      <th>1</th>\n",
              "      <td>el mío es dragón ball budokai tenkaichi 3 lati...</td>\n",
              "      <td>0</td>\n",
              "    </tr>\n",
              "    <tr>\n",
              "      <th>2</th>\n",
              "      <td>rifate con una serie de minecraft vanilla sin ...</td>\n",
              "      <td>0</td>\n",
              "    </tr>\n",
              "    <tr>\n",
              "      <th>3</th>\n",
              "      <td>el juego de tus ojos con tus labios y tu voz e...</td>\n",
              "      <td>0</td>\n",
              "    </tr>\n",
              "    <tr>\n",
              "      <th>4</th>\n",
              "      <td>clahs royal me divierto verte jugar clahs. ere...</td>\n",
              "      <td>0</td>\n",
              "    </tr>\n",
              "  </tbody>\n",
              "</table>\n",
              "</div>\n",
              "      <button class=\"colab-df-convert\" onclick=\"convertToInteractive('df-d2cb02ad-3e66-4c6a-80f2-388aa6fbbdf2')\"\n",
              "              title=\"Convert this dataframe to an interactive table.\"\n",
              "              style=\"display:none;\">\n",
              "        \n",
              "  <svg xmlns=\"http://www.w3.org/2000/svg\" height=\"24px\"viewBox=\"0 0 24 24\"\n",
              "       width=\"24px\">\n",
              "    <path d=\"M0 0h24v24H0V0z\" fill=\"none\"/>\n",
              "    <path d=\"M18.56 5.44l.94 2.06.94-2.06 2.06-.94-2.06-.94-.94-2.06-.94 2.06-2.06.94zm-11 1L8.5 8.5l.94-2.06 2.06-.94-2.06-.94L8.5 2.5l-.94 2.06-2.06.94zm10 10l.94 2.06.94-2.06 2.06-.94-2.06-.94-.94-2.06-.94 2.06-2.06.94z\"/><path d=\"M17.41 7.96l-1.37-1.37c-.4-.4-.92-.59-1.43-.59-.52 0-1.04.2-1.43.59L10.3 9.45l-7.72 7.72c-.78.78-.78 2.05 0 2.83L4 21.41c.39.39.9.59 1.41.59.51 0 1.02-.2 1.41-.59l7.78-7.78 2.81-2.81c.8-.78.8-2.07 0-2.86zM5.41 20L4 18.59l7.72-7.72 1.47 1.35L5.41 20z\"/>\n",
              "  </svg>\n",
              "      </button>\n",
              "      \n",
              "  <style>\n",
              "    .colab-df-container {\n",
              "      display:flex;\n",
              "      flex-wrap:wrap;\n",
              "      gap: 12px;\n",
              "    }\n",
              "\n",
              "    .colab-df-convert {\n",
              "      background-color: #E8F0FE;\n",
              "      border: none;\n",
              "      border-radius: 50%;\n",
              "      cursor: pointer;\n",
              "      display: none;\n",
              "      fill: #1967D2;\n",
              "      height: 32px;\n",
              "      padding: 0 0 0 0;\n",
              "      width: 32px;\n",
              "    }\n",
              "\n",
              "    .colab-df-convert:hover {\n",
              "      background-color: #E2EBFA;\n",
              "      box-shadow: 0px 1px 2px rgba(60, 64, 67, 0.3), 0px 1px 3px 1px rgba(60, 64, 67, 0.15);\n",
              "      fill: #174EA6;\n",
              "    }\n",
              "\n",
              "    [theme=dark] .colab-df-convert {\n",
              "      background-color: #3B4455;\n",
              "      fill: #D2E3FC;\n",
              "    }\n",
              "\n",
              "    [theme=dark] .colab-df-convert:hover {\n",
              "      background-color: #434B5C;\n",
              "      box-shadow: 0px 1px 3px 1px rgba(0, 0, 0, 0.15);\n",
              "      filter: drop-shadow(0px 1px 2px rgba(0, 0, 0, 0.3));\n",
              "      fill: #FFFFFF;\n",
              "    }\n",
              "  </style>\n",
              "\n",
              "      <script>\n",
              "        const buttonEl =\n",
              "          document.querySelector('#df-d2cb02ad-3e66-4c6a-80f2-388aa6fbbdf2 button.colab-df-convert');\n",
              "        buttonEl.style.display =\n",
              "          google.colab.kernel.accessAllowed ? 'block' : 'none';\n",
              "\n",
              "        async function convertToInteractive(key) {\n",
              "          const element = document.querySelector('#df-d2cb02ad-3e66-4c6a-80f2-388aa6fbbdf2');\n",
              "          const dataTable =\n",
              "            await google.colab.kernel.invokeFunction('convertToInteractive',\n",
              "                                                     [key], {});\n",
              "          if (!dataTable) return;\n",
              "\n",
              "          const docLinkHtml = 'Like what you see? Visit the ' +\n",
              "            '<a target=\"_blank\" href=https://colab.research.google.com/notebooks/data_table.ipynb>data table notebook</a>'\n",
              "            + ' to learn more about interactive tables.';\n",
              "          element.innerHTML = '';\n",
              "          dataTable['output_type'] = 'display_data';\n",
              "          await google.colab.output.renderOutput(dataTable, element);\n",
              "          const docLink = document.createElement('div');\n",
              "          docLink.innerHTML = docLinkHtml;\n",
              "          element.appendChild(docLink);\n",
              "        }\n",
              "      </script>\n",
              "    </div>\n",
              "  </div>\n",
              "  "
            ]
          },
          "metadata": {},
          "execution_count": 11
        }
      ]
    },
    {
      "cell_type": "code",
      "source": [
        "text = dataset['POST'].tolist()\n",
        "label = dataset['MISOGYNOUS'].ravel()"
      ],
      "metadata": {
        "id": "I_62NVeDdtkj"
      },
      "execution_count": null,
      "outputs": []
    },
    {
      "cell_type": "code",
      "source": [
        "# split training set into train and test\n",
        "from sklearn.model_selection import train_test_split\n",
        "train_texts, test_texts, train_labels, test_labels = train_test_split(text, label, test_size=.2)"
      ],
      "metadata": {
        "id": "RxkqdLu_cPP7"
      },
      "execution_count": null,
      "outputs": []
    },
    {
      "cell_type": "code",
      "source": [
        "train_texts, val_texts, train_labels, val_labels = train_test_split(train_texts, train_labels, test_size=.25)"
      ],
      "metadata": {
        "id": "rD5kqpHmeOFE"
      },
      "execution_count": null,
      "outputs": []
    },
    {
      "cell_type": "code",
      "source": [
        "model = BertForSequenceClassification.from_pretrained(\"/content/drive/MyDrive/myModels/pretrained_model_concat3epc\")\n",
        "tokenizer = BertTokenizer.from_pretrained(\"/content/drive/MyDrive/myModels/pretrained_model_concat3epc\")"
      ],
      "metadata": {
        "colab": {
          "base_uri": "https://localhost:8080/"
        },
        "id": "fnwnZZHAeYcD",
        "outputId": "8a669429-9abb-4ced-b5a0-33add6d43ce5"
      },
      "execution_count": null,
      "outputs": [
        {
          "output_type": "stream",
          "name": "stderr",
          "text": [
            "Some weights of the model checkpoint at /content/drive/MyDrive/myModels/pretrained_model_concat3epc were not used when initializing BertForSequenceClassification: ['cls.predictions.decoder.weight', 'cls.predictions.transform.dense.bias', 'cls.predictions.transform.LayerNorm.weight', 'cls.predictions.bias', 'cls.predictions.transform.dense.weight', 'cls.predictions.transform.LayerNorm.bias']\n",
            "- This IS expected if you are initializing BertForSequenceClassification from the checkpoint of a model trained on another task or with another architecture (e.g. initializing a BertForSequenceClassification model from a BertForPreTraining model).\n",
            "- This IS NOT expected if you are initializing BertForSequenceClassification from the checkpoint of a model that you expect to be exactly identical (initializing a BertForSequenceClassification model from a BertForSequenceClassification model).\n",
            "Some weights of BertForSequenceClassification were not initialized from the model checkpoint at /content/drive/MyDrive/myModels/pretrained_model_concat3epc and are newly initialized: ['classifier.weight', 'classifier.bias']\n",
            "You should probably TRAIN this model on a down-stream task to be able to use it for predictions and inference.\n"
          ]
        }
      ]
    },
    {
      "cell_type": "code",
      "source": [
        "train_encodings = tokenizer(train_texts, return_tensors='pt', max_length=80, padding=True)\n",
        "val_encodings = tokenizer(val_texts, return_tensors='pt', max_length=80, padding=True)\n",
        "test_encodings = tokenizer(test_texts, return_tensors='pt', max_length=80, padding=True)"
      ],
      "metadata": {
        "colab": {
          "base_uri": "https://localhost:8080/"
        },
        "id": "5xegIDgLe0hr",
        "outputId": "a43aa601-bbb6-421d-ed02-3d7d536d6f4b"
      },
      "execution_count": null,
      "outputs": [
        {
          "output_type": "stream",
          "name": "stderr",
          "text": [
            "/usr/local/lib/python3.8/dist-packages/transformers/tokenization_utils_base.py:2354: UserWarning: `max_length` is ignored when `padding`=`True` and there is no truncation strategy. To pad to max length, use `padding='max_length'`.\n",
            "  warnings.warn(\n"
          ]
        }
      ]
    },
    {
      "cell_type": "code",
      "source": [
        "class MisogynyDataset(torch.utils.data.Dataset):\n",
        "  def __init__(self, encodings, labels):\n",
        "    self.encodings = encodings\n",
        "    self.labels = labels\n",
        "\n",
        "  def __getitem__(self, idx):\n",
        "    item = {key: torch.tensor(val[idx]) for key, val in self.encodings.items()}\n",
        "    item['labels'] = torch.tensor(self.labels[idx])\n",
        "    return item\n",
        "\n",
        "  def __len__(self):\n",
        "    return len(self.labels)"
      ],
      "metadata": {
        "id": "VNoUdIGUfJpx"
      },
      "execution_count": null,
      "outputs": []
    },
    {
      "cell_type": "code",
      "source": [
        "train_dataset = MisogynyDataset(train_encodings, train_labels)\n",
        "val_dataset = MisogynyDataset(val_encodings, val_labels)\n",
        "test_dataset = MisogynyDataset(test_encodings, test_labels)"
      ],
      "metadata": {
        "id": "SDr8OCk1fce0"
      },
      "execution_count": null,
      "outputs": []
    },
    {
      "cell_type": "code",
      "source": [
        "from transformers import Trainer, TrainingArguments\n",
        "\n",
        "\n",
        "training_args = TrainingArguments(\n",
        "    output_dir='./results',          # output directory\n",
        "    num_train_epochs=2,              # total # of training epochs\n",
        "    per_device_train_batch_size=8, # batch size per device during training\n",
        "    per_device_eval_batch_size=32,   # batch size for evaluation\n",
        "    warmup_steps=100,                # number of warmup steps for learning rate scheduler\n",
        "    weight_decay=0.0,               # strength of weight decay\n",
        "    learning_rate = 5e-5,\n",
        "    logging_dir='./logs',            # directory for storing logs\n",
        "    optim = 'adamw_torch'\n",
        ")\n",
        "\n",
        "trainer = Trainer(\n",
        "    model=model,                         # the instantiated Transformers model to be trained\n",
        "    args=training_args,                  # training arguments, defined above\n",
        "    train_dataset=train_dataset,         # training dataset\n",
        "    eval_dataset=val_dataset             # evaluation dataset\n",
        ")"
      ],
      "metadata": {
        "id": "hU57uAewffAA"
      },
      "execution_count": null,
      "outputs": []
    },
    {
      "cell_type": "code",
      "source": [
        "trainer.train()"
      ],
      "metadata": {
        "colab": {
          "base_uri": "https://localhost:8080/",
          "height": 417
        },
        "id": "AXBvgrp-fj5d",
        "outputId": "804d3bb6-c5b1-4c03-8b51-b759d009f11d"
      },
      "execution_count": null,
      "outputs": [
        {
          "output_type": "stream",
          "name": "stderr",
          "text": [
            "***** Running training *****\n",
            "  Num examples = 1480\n",
            "  Num Epochs = 2\n",
            "  Instantaneous batch size per device = 8\n",
            "  Total train batch size (w. parallel, distributed & accumulation) = 8\n",
            "  Gradient Accumulation steps = 1\n",
            "  Total optimization steps = 370\n",
            "  Number of trainable parameters = 109852418\n",
            "<ipython-input-17-7db7345b34a2>:7: UserWarning: To copy construct from a tensor, it is recommended to use sourceTensor.clone().detach() or sourceTensor.clone().detach().requires_grad_(True), rather than torch.tensor(sourceTensor).\n",
            "  item = {key: torch.tensor(val[idx]) for key, val in self.encodings.items()}\n"
          ]
        },
        {
          "output_type": "display_data",
          "data": {
            "text/plain": [
              "<IPython.core.display.HTML object>"
            ],
            "text/html": [
              "\n",
              "    <div>\n",
              "      \n",
              "      <progress value='370' max='370' style='width:300px; height:20px; vertical-align: middle;'></progress>\n",
              "      [370/370 00:25, Epoch 2/2]\n",
              "    </div>\n",
              "    <table border=\"1\" class=\"dataframe\">\n",
              "  <thead>\n",
              " <tr style=\"text-align: left;\">\n",
              "      <th>Step</th>\n",
              "      <th>Training Loss</th>\n",
              "    </tr>\n",
              "  </thead>\n",
              "  <tbody>\n",
              "  </tbody>\n",
              "</table><p>"
            ]
          },
          "metadata": {}
        },
        {
          "output_type": "stream",
          "name": "stderr",
          "text": [
            "\n",
            "\n",
            "Training completed. Do not forget to share your model on huggingface.co/models =)\n",
            "\n",
            "\n"
          ]
        },
        {
          "output_type": "execute_result",
          "data": {
            "text/plain": [
              "TrainOutput(global_step=370, training_loss=0.3953409143396326, metrics={'train_runtime': 26.468, 'train_samples_per_second': 111.833, 'train_steps_per_second': 13.979, 'total_flos': 152111078880000.0, 'train_loss': 0.3953409143396326, 'epoch': 2.0})"
            ]
          },
          "metadata": {},
          "execution_count": 20
        }
      ]
    },
    {
      "cell_type": "code",
      "source": [
        "trainer.evaluate()"
      ],
      "metadata": {
        "colab": {
          "base_uri": "https://localhost:8080/",
          "height": 236
        },
        "id": "Vio-o1okfnkr",
        "outputId": "ea771e09-7bfd-4a70-f1fd-a40fc0c4dd86"
      },
      "execution_count": null,
      "outputs": [
        {
          "output_type": "stream",
          "name": "stderr",
          "text": [
            "***** Running Evaluation *****\n",
            "  Num examples = 494\n",
            "  Batch size = 32\n",
            "<ipython-input-17-7db7345b34a2>:7: UserWarning: To copy construct from a tensor, it is recommended to use sourceTensor.clone().detach() or sourceTensor.clone().detach().requires_grad_(True), rather than torch.tensor(sourceTensor).\n",
            "  item = {key: torch.tensor(val[idx]) for key, val in self.encodings.items()}\n"
          ]
        },
        {
          "output_type": "display_data",
          "data": {
            "text/plain": [
              "<IPython.core.display.HTML object>"
            ],
            "text/html": [
              "\n",
              "    <div>\n",
              "      \n",
              "      <progress value='16' max='16' style='width:300px; height:20px; vertical-align: middle;'></progress>\n",
              "      [16/16 00:00]\n",
              "    </div>\n",
              "    "
            ]
          },
          "metadata": {}
        },
        {
          "output_type": "execute_result",
          "data": {
            "text/plain": [
              "{'eval_loss': 0.3666936755180359,\n",
              " 'eval_runtime': 0.8366,\n",
              " 'eval_samples_per_second': 590.479,\n",
              " 'eval_steps_per_second': 19.125,\n",
              " 'epoch': 2.0}"
            ]
          },
          "metadata": {},
          "execution_count": 21
        }
      ]
    },
    {
      "cell_type": "code",
      "source": [
        "from sklearn.metrics import accuracy_score, precision_recall_fscore_support\n",
        "\n",
        "def compute_metrics(pred):\n",
        "    labels = pred.label_ids\n",
        "    preds = pred.predictions.argmax(-1)\n",
        "    precision, recall, f1, _ = precision_recall_fscore_support(labels, preds, average='binary')\n",
        "    acc = accuracy_score(labels, preds)\n",
        "    return {\n",
        "        'accuracy': acc,\n",
        "        'f1': f1,\n",
        "        'precision': precision,\n",
        "        'recall': recall\n",
        "    }"
      ],
      "metadata": {
        "id": "8J2p3QEWfpdQ"
      },
      "execution_count": null,
      "outputs": []
    },
    {
      "cell_type": "code",
      "source": [
        "predictions = trainer.predict(test_dataset)"
      ],
      "metadata": {
        "colab": {
          "base_uri": "https://localhost:8080/",
          "height": 126
        },
        "id": "fDz63v6qfrF9",
        "outputId": "3b4d7c8f-cd66-441e-d1c5-fba2df317e7b"
      },
      "execution_count": null,
      "outputs": [
        {
          "output_type": "stream",
          "name": "stderr",
          "text": [
            "***** Running Prediction *****\n",
            "  Num examples = 494\n",
            "  Batch size = 32\n",
            "<ipython-input-17-7db7345b34a2>:7: UserWarning: To copy construct from a tensor, it is recommended to use sourceTensor.clone().detach() or sourceTensor.clone().detach().requires_grad_(True), rather than torch.tensor(sourceTensor).\n",
            "  item = {key: torch.tensor(val[idx]) for key, val in self.encodings.items()}\n"
          ]
        },
        {
          "output_type": "display_data",
          "data": {
            "text/plain": [
              "<IPython.core.display.HTML object>"
            ],
            "text/html": []
          },
          "metadata": {}
        }
      ]
    },
    {
      "cell_type": "code",
      "source": [
        "compute_metrics(predictions)"
      ],
      "metadata": {
        "colab": {
          "base_uri": "https://localhost:8080/"
        },
        "id": "IMrhOYsTfslP",
        "outputId": "8c9048a1-a817-463a-f6c6-bfd2f41bfcd3"
      },
      "execution_count": null,
      "outputs": [
        {
          "output_type": "execute_result",
          "data": {
            "text/plain": [
              "{'accuracy': 0.8785425101214575,\n",
              " 'f1': 0.8775510204081634,\n",
              " 'precision': 0.8669354838709677,\n",
              " 'recall': 0.8884297520661157}"
            ]
          },
          "metadata": {},
          "execution_count": 24
        }
      ]
    },
    {
      "cell_type": "code",
      "source": [
        "predictions.predictions.argmax(-1)"
      ],
      "metadata": {
        "id": "maw852Us8tvE",
        "colab": {
          "base_uri": "https://localhost:8080/"
        },
        "outputId": "f6eba3d8-4518-4896-93e9-723a9324ccb0"
      },
      "execution_count": null,
      "outputs": [
        {
          "output_type": "execute_result",
          "data": {
            "text/plain": [
              "array([0, 1, 1, 1, 1, 0, 0, 1, 0, 0, 0, 1, 1, 1, 1, 1, 1, 0, 0, 1, 1, 0,\n",
              "       1, 0, 1, 1, 1, 0, 0, 0, 0, 0, 0, 0, 1, 0, 0, 0, 1, 1, 0, 0, 0, 1,\n",
              "       0, 0, 0, 0, 1, 1, 0, 0, 1, 0, 0, 0, 1, 1, 0, 0, 1, 1, 0, 1, 0, 0,\n",
              "       1, 1, 0, 0, 1, 1, 1, 0, 1, 1, 0, 1, 1, 0, 1, 0, 0, 1, 0, 0, 0, 0,\n",
              "       0, 0, 1, 0, 1, 1, 0, 0, 1, 0, 0, 1, 1, 0, 1, 0, 1, 0, 1, 1, 1, 0,\n",
              "       0, 1, 1, 1, 1, 1, 0, 0, 0, 1, 0, 0, 1, 0, 0, 0, 1, 1, 0, 0, 0, 1,\n",
              "       1, 1, 1, 0, 0, 0, 0, 1, 1, 0, 0, 1, 1, 1, 1, 1, 1, 0, 0, 1, 1, 1,\n",
              "       0, 1, 0, 0, 1, 1, 1, 0, 1, 0, 1, 0, 1, 1, 0, 1, 0, 1, 0, 1, 1, 1,\n",
              "       0, 1, 0, 1, 0, 0, 0, 0, 0, 1, 1, 0, 0, 1, 1, 1, 1, 1, 0, 1, 1, 1,\n",
              "       0, 1, 1, 0, 1, 0, 1, 1, 1, 0, 1, 0, 1, 0, 1, 1, 1, 0, 1, 1, 1, 1,\n",
              "       1, 1, 0, 1, 0, 1, 1, 1, 1, 1, 1, 0, 0, 1, 0, 0, 1, 1, 0, 0, 1, 0,\n",
              "       0, 0, 1, 0, 1, 1, 0, 1, 0, 1, 1, 0, 0, 1, 0, 0, 0, 0, 1, 0, 1, 0,\n",
              "       1, 0, 1, 1, 0, 1, 0, 0, 1, 1, 0, 1, 0, 0, 0, 1, 0, 0, 0, 0, 0, 0,\n",
              "       1, 1, 1, 0, 1, 1, 1, 0, 1, 1, 1, 0, 1, 0, 1, 0, 1, 0, 1, 1, 1, 1,\n",
              "       1, 0, 1, 0, 1, 0, 0, 1, 1, 0, 0, 0, 1, 0, 0, 0, 0, 1, 0, 1, 0, 0,\n",
              "       1, 0, 0, 0, 1, 0, 0, 0, 0, 1, 0, 1, 1, 0, 0, 0, 0, 0, 1, 1, 0, 1,\n",
              "       1, 0, 0, 0, 0, 1, 1, 0, 1, 0, 0, 1, 0, 0, 0, 1, 0, 0, 1, 0, 0, 1,\n",
              "       0, 0, 1, 0, 1, 1, 1, 1, 0, 0, 0, 0, 1, 0, 1, 1, 1, 1, 1, 1, 1, 0,\n",
              "       1, 1, 0, 0, 1, 1, 0, 0, 0, 0, 0, 1, 0, 1, 1, 1, 0, 1, 1, 1, 0, 1,\n",
              "       1, 0, 0, 1, 1, 1, 0, 1, 1, 0, 0, 1, 0, 1, 0, 0, 1, 0, 1, 1, 0, 1,\n",
              "       1, 1, 1, 0, 1, 0, 0, 0, 1, 0, 0, 1, 1, 0, 0, 0, 1, 0, 1, 1, 1, 0,\n",
              "       0, 1, 0, 0, 1, 0, 1, 1, 0, 0, 0, 1, 1, 0, 0, 1, 1, 1, 1, 0, 0, 1,\n",
              "       1, 0, 0, 1, 1, 0, 1, 0, 0, 0])"
            ]
          },
          "metadata": {},
          "execution_count": 25
        }
      ]
    },
    {
      "cell_type": "code",
      "source": [
        "predictions.label_ids"
      ],
      "metadata": {
        "colab": {
          "base_uri": "https://localhost:8080/"
        },
        "id": "RaHwgcRVo2rk",
        "outputId": "078839b3-78f6-4130-c05b-63b98d20e203"
      },
      "execution_count": null,
      "outputs": [
        {
          "output_type": "execute_result",
          "data": {
            "text/plain": [
              "array([0, 1, 1, 1, 1, 1, 0, 1, 0, 0, 0, 1, 1, 1, 1, 1, 1, 0, 0, 1, 0, 0,\n",
              "       1, 1, 1, 1, 1, 0, 0, 0, 0, 0, 0, 0, 1, 0, 0, 0, 1, 1, 0, 0, 0, 1,\n",
              "       0, 0, 0, 0, 1, 1, 0, 0, 1, 0, 0, 0, 1, 1, 0, 0, 1, 1, 1, 1, 0, 0,\n",
              "       1, 1, 0, 0, 1, 1, 1, 0, 1, 1, 0, 0, 1, 0, 1, 0, 0, 1, 0, 0, 0, 0,\n",
              "       0, 0, 1, 0, 1, 1, 0, 0, 1, 1, 0, 1, 1, 0, 1, 0, 1, 0, 1, 1, 1, 0,\n",
              "       0, 1, 1, 1, 1, 1, 0, 0, 0, 1, 0, 0, 1, 0, 0, 0, 1, 1, 0, 0, 0, 1,\n",
              "       1, 1, 1, 0, 0, 1, 0, 0, 1, 0, 1, 1, 0, 1, 1, 1, 1, 1, 0, 1, 1, 0,\n",
              "       0, 1, 1, 0, 1, 1, 1, 0, 1, 0, 1, 0, 1, 1, 1, 1, 0, 0, 0, 1, 1, 1,\n",
              "       0, 1, 0, 1, 0, 1, 1, 0, 0, 1, 1, 0, 0, 1, 1, 1, 1, 1, 0, 1, 1, 1,\n",
              "       0, 1, 1, 0, 1, 0, 1, 1, 1, 0, 1, 0, 1, 0, 0, 1, 1, 0, 1, 1, 1, 1,\n",
              "       1, 1, 0, 0, 1, 1, 1, 0, 1, 1, 1, 0, 0, 0, 0, 0, 1, 1, 0, 0, 0, 0,\n",
              "       0, 0, 1, 1, 1, 1, 0, 1, 0, 1, 1, 0, 0, 0, 0, 1, 0, 0, 1, 0, 1, 0,\n",
              "       1, 1, 1, 1, 0, 1, 0, 0, 1, 1, 0, 1, 0, 0, 0, 1, 0, 0, 0, 0, 0, 0,\n",
              "       1, 1, 1, 0, 1, 1, 1, 0, 1, 1, 1, 0, 1, 1, 1, 0, 1, 0, 1, 1, 1, 0,\n",
              "       1, 0, 0, 0, 1, 0, 0, 1, 0, 0, 0, 0, 1, 0, 0, 1, 0, 0, 0, 1, 0, 0,\n",
              "       1, 0, 0, 1, 1, 0, 0, 0, 0, 0, 0, 0, 1, 0, 0, 0, 1, 0, 1, 1, 0, 0,\n",
              "       1, 0, 0, 0, 0, 1, 1, 0, 1, 0, 1, 0, 0, 0, 1, 0, 0, 0, 1, 1, 1, 1,\n",
              "       0, 0, 1, 0, 1, 1, 1, 1, 0, 0, 0, 0, 1, 0, 1, 1, 1, 1, 1, 1, 1, 0,\n",
              "       1, 0, 0, 0, 1, 0, 0, 0, 0, 0, 1, 1, 0, 1, 0, 1, 0, 1, 1, 1, 0, 1,\n",
              "       1, 0, 0, 0, 1, 0, 1, 1, 1, 0, 0, 1, 1, 1, 0, 0, 0, 0, 1, 1, 0, 1,\n",
              "       1, 1, 1, 0, 1, 0, 0, 0, 1, 0, 0, 1, 1, 0, 1, 0, 0, 0, 0, 1, 0, 0,\n",
              "       0, 1, 0, 0, 1, 0, 1, 1, 0, 0, 0, 0, 1, 0, 0, 1, 1, 1, 1, 0, 0, 0,\n",
              "       0, 0, 0, 1, 1, 0, 1, 0, 0, 0])"
            ]
          },
          "metadata": {},
          "execution_count": 26
        }
      ]
    },
    {
      "cell_type": "code",
      "source": [
        "for i in range(len(test_texts)):\n",
        "  if predictions.predictions.argmax(-1)[i] != predictions.label_ids[i]:\n",
        "    print(\"Tweet:\", test_texts[i])\n",
        "    print(\"Correct label:\", predictions.label_ids[i])\n",
        "    print(\"Assigned label: \", predictions.predictions.argmax(-1)[i])\n"
      ],
      "metadata": {
        "colab": {
          "base_uri": "https://localhost:8080/"
        },
        "id": "Eqr0i0nZo40i",
        "outputId": "f4489694-657c-468f-9034-4da653ffe4f7"
      },
      "execution_count": null,
      "outputs": [
        {
          "output_type": "stream",
          "name": "stdout",
          "text": [
            "Tweet: ya te ví en página de adultos y no tienes nada de bueno\n",
            "Correct label: 1\n",
            "Assigned label:  0\n",
            "Tweet: ¿y las patas n3gras? díganme el porqué.... por queeeeee!!!\n",
            "Correct label: 0\n",
            "Assigned label:  1\n",
            "Tweet: mija los piropos no son acoso callejero\n",
            "Correct label: 1\n",
            "Assigned label:  0\n",
            "Tweet: por lo que pude ver unas buenas mamadas si da \n",
            "Correct label: 1\n",
            "Assigned label:  0\n",
            "Tweet: quiero sostener tu mano para siempre \n",
            "Correct label: 0\n",
            "Assigned label:  1\n",
            "Tweet: marche pues\n",
            "Correct label: 1\n",
            "Assigned label:  0\n",
            "Tweet: los secuestradores se la pasan bien rico\n",
            "Correct label: 1\n",
            "Assigned label:  0\n",
            "Tweet: la primera es la hidro cuando recién te conoció la segunda es kim animandote xdd\n",
            "Correct label: 0\n",
            "Assigned label:  1\n",
            "Tweet: mira el tamaño de esos magumbos\n",
            "Correct label: 1\n",
            "Assigned label:  0\n",
            "Tweet: increíble pero es la pera verdad\n",
            "Correct label: 0\n",
            "Assigned label:  1\n",
            "Tweet: a mí se me hace que el único acoso que ha recibido esta persona es que le dicen seguido que viste como pendeja\n",
            "Correct label: 1\n",
            "Assigned label:  0\n",
            "Tweet: sikilla no subas más foto asín que cualquier día me va a dar algo en el corazón\n",
            "Correct label: 0\n",
            "Assigned label:  1\n",
            "Tweet: cu10t3 hermoso\n",
            "Correct label: 1\n",
            "Assigned label:  0\n",
            "Tweet: ni siquiera ese par de buenas razones harían que escuche su explicación sobre el tema :v\n",
            "Correct label: 1\n",
            "Assigned label:  0\n",
            "Tweet: p¡*ch3 meme todo qleroparece económica argentina\n",
            "Correct label: 0\n",
            "Assigned label:  1\n",
            "Tweet: sacos de cmen\n",
            "Correct label: 1\n",
            "Assigned label:  0\n",
            "Tweet:  no se necesita ser inteligente solo enseñar las \n",
            "Correct label: 1\n",
            "Assigned label:  0\n",
            "Tweet: viejo tus calzones jajajajajaj pero gracias por defender jajajajajajaja\n",
            "Correct label: 0\n",
            "Assigned label:  1\n",
            "Tweet: 6cm? pfff esa cosa es para dar pasion no para perforar órganos 0o0\n",
            "Correct label: 0\n",
            "Assigned label:  1\n",
            "Tweet: por qué los 4$3$1n0$ deciden lastimar a mujeres inocentes habiendo 3$cori4$ así por montones de dónde eleguir?\n",
            "Correct label: 1\n",
            "Assigned label:  0\n",
            "Tweet: a la de hace 3 años minimo le diste tu clabe interbancaria o algo?\n",
            "Correct label: 0\n",
            "Assigned label:  1\n",
            "Tweet: ¿y si aprovechaste la oportunidad con la sugar?\n",
            "Correct label: 0\n",
            "Assigned label:  1\n",
            "Tweet: demandarlo o busca quien le de su calentadita es muy probable que lo siga haciendo si no lo detienen\n",
            "Correct label: 0\n",
            "Assigned label:  1\n",
            "Tweet: por eso no dejen salir a su pareja si no es con ustedes o mínimo no a fiestas o lugares donde haya alcohol bv\n",
            "Correct label: 1\n",
            "Assigned label:  0\n",
            "Tweet: cuanta preocupación se te ve jejejje\n",
            "Correct label: 0\n",
            "Assigned label:  1\n",
            "Tweet: ari aguanta un socon con 18 cm\n",
            "Correct label: 1\n",
            "Assigned label:  0\n",
            "Tweet: parece el inicio de un doujin ntr\n",
            "Correct label: 1\n",
            "Assigned label:  0\n",
            "Tweet: lo que se tiene que hacer por poquita atención que su padre no le dió\n",
            "Correct label: 1\n",
            "Assigned label:  0\n",
            "Tweet: nmms a ti se nota que las mujeres ni la hora te dan jaja\n",
            "Correct label: 0\n",
            "Assigned label:  1\n",
            "Tweet: detrás de la mujer se ve una sombra no se si se si se fijaron ....\n",
            "Correct label: 0\n",
            "Assigned label:  1\n",
            "Tweet: ya me dieron gganas de ser cristiano mejor\n",
            "Correct label: 0\n",
            "Assigned label:  1\n",
            "Tweet: parece bait pero no. hay especímenes xx que sí son así.\n",
            "Correct label: 1\n",
            "Assigned label:  0\n",
            "Tweet: qué les da risa pinch3 gente puñet4s\n",
            "Correct label: 0\n",
            "Assigned label:  1\n",
            "Tweet: cómo carpa de circo siempre que sueño contigo\n",
            "Correct label: 1\n",
            "Assigned label:  0\n",
            "Tweet: mientras exista el hombre que demuestre hambre estaremos jodidos!!\n",
            "Correct label: 0\n",
            "Assigned label:  1\n",
            "Tweet: el espantaviejas\n",
            "Correct label: 0\n",
            "Assigned label:  1\n",
            "Tweet: ya que elon es dueño ojalá haha purga de todo es le progresismo de mrd\n",
            "Correct label: 1\n",
            "Assigned label:  0\n",
            "Tweet: otra película sin gluten para que la generación de cristal se sienta segura \n",
            "Correct label: 0\n",
            "Assigned label:  1\n",
            "Tweet: todo el año su of esta al 50% aceptalo nadie quiere el of de pepa pig\n",
            "Correct label: 1\n",
            "Assigned label:  0\n",
            "Tweet: por qué siempre ponen a las chinas bailando?\n",
            "Correct label: 0\n",
            "Assigned label:  1\n",
            "Tweet: llevenle un psicólogo que al parecer el ardor de qlo por el abandono de su papá aún persiste\n",
            "Correct label: 1\n",
            "Assigned label:  0\n",
            "Tweet: cuando veremos a una melody sayayin ? xd\n",
            "Correct label: 0\n",
            "Assigned label:  1\n",
            "Tweet: porque se ponen ese filtro si esta de la verga?\n",
            "Correct label: 1\n",
            "Assigned label:  0\n",
            "Tweet: jaja pensé que decía “exhibiéndome” y la verdad es que solo haces muy bien!\n",
            "Correct label: 1\n",
            "Assigned label:  0\n",
            "Tweet: bien cotorras que son como dice mi abuelita xd\n",
            "Correct label: 0\n",
            "Assigned label:  1\n",
            "Tweet: ah pero luego andan chillando cuando se divorcian y la mujer les quita la mitad de sus bienes \n",
            "Correct label: 0\n",
            "Assigned label:  1\n",
            "Tweet: ¿avergonzarme de mi cuerpo?  ni que fuera muj€:marca_registrada:... \n",
            "Correct label: 1\n",
            "Assigned label:  0\n",
            "Tweet: suerte que ella lo puede costear\n",
            "Correct label: 0\n",
            "Assigned label:  1\n",
            "Tweet: esta wuindy no enciende nada nos quema con su mirada es fuego\n",
            "Correct label: 0\n",
            "Assigned label:  1\n",
            "Tweet: flaca tu delineado\n",
            "Correct label: 0\n",
            "Assigned label:  1\n",
            "Tweet: creo que te voy a dedicar una esta noche\n",
            "Correct label: 1\n",
            "Assigned label:  0\n",
            "Tweet: por eso aquaman prefirió hacerlo con peces\n",
            "Correct label: 1\n",
            "Assigned label:  0\n",
            "Tweet: unga unga vestido mujer y martillo ser de hombre unga unga\n",
            "Correct label: 0\n",
            "Assigned label:  1\n",
            "Tweet: primero muestra el ano \n",
            "Correct label: 1\n",
            "Assigned label:  0\n",
            "Tweet: la constante de esa “dieta” es la anemia\n",
            "Correct label: 0\n",
            "Assigned label:  1\n",
            "Tweet: incel descubre que las mujeres envejecen\n",
            "Correct label: 0\n",
            "Assigned label:  1\n",
            "Tweet: bien y tú estás bn guapa kajdksjsj\n",
            "Correct label: 0\n",
            "Assigned label:  1\n",
            "Tweet: dudo que solo sea que la traten bien\n",
            "Correct label: 0\n",
            "Assigned label:  1\n",
            "Tweet: a perdon ahora resulta que un hombre me tiene que decir cómo ser una verdadera feminista  un hombre que nunca ha sido mujer... parfavar!!\n",
            "Correct label: 0\n",
            "Assigned label:  1\n",
            "Tweet: no mam3 don ni lo va a pelar déjele de estar moviendo que se humilla solito\n",
            "Correct label: 0\n",
            "Assigned label:  1\n"
          ]
        }
      ]
    },
    {
      "cell_type": "code",
      "source": [],
      "metadata": {
        "id": "c4f1yfm7o64I"
      },
      "execution_count": null,
      "outputs": []
    }
  ]
}